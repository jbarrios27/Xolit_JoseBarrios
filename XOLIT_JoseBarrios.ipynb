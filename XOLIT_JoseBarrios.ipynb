{
  "nbformat": 4,
  "nbformat_minor": 0,
  "metadata": {
    "colab": {
      "name": "XOLIT_JoseMaxBarrios.ipynb",
      "provenance": [],
      "collapsed_sections": []
    },
    "kernelspec": {
      "name": "python3",
      "display_name": "Python 3"
    },
    "language_info": {
      "name": "python"
    }
  },
  "cells": [
    {
      "cell_type": "markdown",
      "source": [
        "# **Prueba Científico de Datos**\n",
        "\n",
        "**José Max Barrios:**\n",
        "*Data Scientist*"
      ],
      "metadata": {
        "id": "vgrNpuPP3Qzq"
      }
    },
    {
      "cell_type": "markdown",
      "source": [
        "##**PUNTO 7**\n",
        "Utilizando el conjunto de datos proporcionado en la carpeta comprimida ZIP realice unnotebook en Python o R donde haga un resumen que contenga la siguiente información:\n",
        "\n",
        "a.Análisis descriptivo de las variables manner_of_death y armed utilizandocaracterísticas sociodemográficas (age, gender, race, etc)\n",
        "\n",
        "b.Evolución en el tiempo de las muertes por estado (Seleccione los 5 estados con másmuertes para facilitar la visualización)\n",
        "\n",
        "c.Realice un análisis del ingreso, escolaridad, raza y pobreza para cada uno de los 5estados"
      ],
      "metadata": {
        "id": "4fUGYXsBLhiv"
      }
    },
    {
      "cell_type": "code",
      "source": [
        "# Mineria de Datos\n",
        "import pandas as pd\n",
        "import numpy as np\n",
        "\n",
        "# Visualización de datos\n",
        "import seaborn as sns\n",
        "import matplotlib.pyplot as plt\n",
        "\n",
        "# Machine Learning\n",
        "from sklearn.model_selection import train_test_split\n",
        "from sklearn.ensemble import ExtraTreesClassifier ,RandomForestClassifier\n",
        "from sklearn.tree import DecisionTreeClassifier\n",
        "from imblearn.over_sampling import SMOTE\n",
        "import imblearn\n",
        "from sklearn.neighbors import KNeighborsClassifier\n",
        "from sklearn.metrics import accuracy_score,classification_report,confusion_matrix\n",
        "#Otros\n",
        "import warnings\n",
        "warnings.filterwarnings('ignore')"
      ],
      "metadata": {
        "id": "S-t1vPiU3GQ3"
      },
      "execution_count": 1901,
      "outputs": []
    },
    {
      "cell_type": "code",
      "source": [
        "#  Lectura de datos\n",
        "educacion_ciudades = pd.read_csv('/content/EducacionCiudades.csv',encoding='windows-1252')\n",
        "ingreso_ciudades = pd.read_csv('/content/IngresoCiudades.csv',encoding='windows-1252')\n",
        "pobreza_ciudades = pd.read_csv('/content/PobrezaCiudades.csv',encoding='windows-1252')\n",
        "policia_asesinatos = pd.read_csv('/content/PoliciaAsesinatos.csv',encoding='windows-1252')\n",
        "raza_ciudades = pd.read_csv('/content/RazaCiudades.csv',encoding='windows-1252')"
      ],
      "metadata": {
        "id": "ZOP0Fel43GTX"
      },
      "execution_count": 1902,
      "outputs": []
    },
    {
      "cell_type": "markdown",
      "source": [
        "## **7.1** Inspeccionar Datos"
      ],
      "metadata": {
        "id": "HId5S7A58DvM"
      }
    },
    {
      "cell_type": "code",
      "source": [
        "def data_inspec(dataframe):\n",
        "    # Inspeccionar datos\n",
        "    print(dataframe.head(2))\n",
        "    print(dataframe.tail(2))\n",
        "\n",
        "    print(dataframe.info())\n",
        "    print()\n",
        "    print(dataframe.describe())\n",
        "    print()\n",
        "    print('COLUMNAS')\n",
        "    counter = 1\n",
        "    for i in dataframe.columns:\n",
        "      print(counter,i)\n",
        "      counter += 1"
      ],
      "metadata": {
        "id": "wSFjpGXp8Svu"
      },
      "execution_count": 1903,
      "outputs": []
    },
    {
      "cell_type": "code",
      "source": [
        "# DATAFRAME 1\n",
        "data_inspec(dataframe=educacion_ciudades)"
      ],
      "metadata": {
        "colab": {
          "base_uri": "https://localhost:8080/"
        },
        "id": "tT78FqHu3GV6",
        "outputId": "a794a9c0-ef70-4c00-ff7f-306dff996205"
      },
      "execution_count": 1904,
      "outputs": [
        {
          "output_type": "stream",
          "name": "stdout",
          "text": [
            "  Geographic Area            City percent_completed_hs\n",
            "0              AL      Abanda CDP                 21.2\n",
            "1              AL  Abbeville city                 69.1\n",
            "      Geographic Area           City percent_completed_hs\n",
            "29327              WY     Yoder town                 79.4\n",
            "29328              WY  Y-O Ranch CDP                  100\n",
            "<class 'pandas.core.frame.DataFrame'>\n",
            "RangeIndex: 29329 entries, 0 to 29328\n",
            "Data columns (total 3 columns):\n",
            " #   Column                Non-Null Count  Dtype \n",
            "---  ------                --------------  ----- \n",
            " 0   Geographic Area       29329 non-null  object\n",
            " 1   City                  29329 non-null  object\n",
            " 2   percent_completed_hs  29329 non-null  object\n",
            "dtypes: object(3)\n",
            "memory usage: 687.5+ KB\n",
            "None\n",
            "\n",
            "       Geographic Area           City percent_completed_hs\n",
            "count            29329          29329                29329\n",
            "unique              51          24255                  728\n",
            "top                 PA  Franklin city                  100\n",
            "freq              1762             16                 1301\n",
            "\n",
            "COLUMNAS\n",
            "1 Geographic Area\n",
            "2 City\n",
            "3 percent_completed_hs\n"
          ]
        }
      ]
    },
    {
      "cell_type": "markdown",
      "source": [
        "**No** contiene valores nulos"
      ],
      "metadata": {
        "id": "9_g0S8LjBzf9"
      }
    },
    {
      "cell_type": "code",
      "source": [
        "# DATAFRAME 2\n",
        "data_inspec(dataframe=ingreso_ciudades)"
      ],
      "metadata": {
        "colab": {
          "base_uri": "https://localhost:8080/"
        },
        "id": "Z2l-M3Ar3GYY",
        "outputId": "be14d4ef-dd55-40aa-9893-9695a052a189"
      },
      "execution_count": 1905,
      "outputs": [
        {
          "output_type": "stream",
          "name": "stdout",
          "text": [
            "  Geographic Area            City Median Income\n",
            "0              AL      Abanda CDP         11207\n",
            "1              AL  Abbeville city         25615\n",
            "      Geographic Area           City Median Income\n",
            "29320              WY     Yoder town         37500\n",
            "29321              WY  Y-O Ranch CDP           NaN\n",
            "<class 'pandas.core.frame.DataFrame'>\n",
            "RangeIndex: 29322 entries, 0 to 29321\n",
            "Data columns (total 3 columns):\n",
            " #   Column           Non-Null Count  Dtype \n",
            "---  ------           --------------  ----- \n",
            " 0   Geographic Area  29322 non-null  object\n",
            " 1   City             29322 non-null  object\n",
            " 2   Median Income    29271 non-null  object\n",
            "dtypes: object(3)\n",
            "memory usage: 687.4+ KB\n",
            "None\n",
            "\n",
            "       Geographic Area           City Median Income\n",
            "count            29322          29322         29271\n",
            "unique              51          24249         14592\n",
            "top                 PA  Franklin city           (X)\n",
            "freq              1762             16          1113\n",
            "\n",
            "COLUMNAS\n",
            "1 Geographic Area\n",
            "2 City\n",
            "3 Median Income\n"
          ]
        }
      ]
    },
    {
      "cell_type": "markdown",
      "source": [
        "Median Income **Tiene** valores nulos"
      ],
      "metadata": {
        "id": "qDVRE7xKB6TQ"
      }
    },
    {
      "cell_type": "code",
      "source": [
        "# DATAFRAME 3\n",
        "data_inspec(dataframe=pobreza_ciudades)"
      ],
      "metadata": {
        "colab": {
          "base_uri": "https://localhost:8080/"
        },
        "id": "n9Ttt0pZ3GbK",
        "outputId": "0ebe7b81-1a92-4aed-fa0e-25a6c7bdbba9"
      },
      "execution_count": 1906,
      "outputs": [
        {
          "output_type": "stream",
          "name": "stdout",
          "text": [
            "  Geographic Area            City poverty_rate\n",
            "0              AL      Abanda CDP         78.8\n",
            "1              AL  Abbeville city         29.1\n",
            "      Geographic Area           City poverty_rate\n",
            "29327              WY     Yoder town          5.4\n",
            "29328              WY  Y-O Ranch CDP            0\n",
            "<class 'pandas.core.frame.DataFrame'>\n",
            "RangeIndex: 29329 entries, 0 to 29328\n",
            "Data columns (total 3 columns):\n",
            " #   Column           Non-Null Count  Dtype \n",
            "---  ------           --------------  ----- \n",
            " 0   Geographic Area  29329 non-null  object\n",
            " 1   City             29329 non-null  object\n",
            " 2   poverty_rate     29329 non-null  object\n",
            "dtypes: object(3)\n",
            "memory usage: 687.5+ KB\n",
            "None\n",
            "\n",
            "       Geographic Area           City poverty_rate\n",
            "count            29329          29329        29329\n",
            "unique              51          24255          771\n",
            "top                 PA  Franklin city            0\n",
            "freq              1762             16         1464\n",
            "\n",
            "COLUMNAS\n",
            "1 Geographic Area\n",
            "2 City\n",
            "3 poverty_rate\n"
          ]
        }
      ]
    },
    {
      "cell_type": "markdown",
      "source": [
        "**No contiene valores nulos**"
      ],
      "metadata": {
        "id": "YO4fPHHdCBwX"
      }
    },
    {
      "cell_type": "code",
      "source": [
        "# DATAFRAME 4 \n",
        "data_inspec(dataframe=policia_asesinatos)"
      ],
      "metadata": {
        "colab": {
          "base_uri": "https://localhost:8080/"
        },
        "id": "9D8OrpCr-K03",
        "outputId": "9db2f3bd-85cb-4ab1-b4d9-32a88c5c217d"
      },
      "execution_count": 1907,
      "outputs": [
        {
          "output_type": "stream",
          "name": "stdout",
          "text": [
            "   id              name      date manner_of_death armed   age gender race  \\\n",
            "0   3        Tim Elliot  02/01/15            shot   gun  53.0      M    A   \n",
            "1   4  Lewis Lee Lembke  02/01/15            shot   gun  47.0      M    W   \n",
            "\n",
            "      city state  signs_of_mental_illness threat_level         flee  \\\n",
            "0  Shelton    WA                     True       attack  Not fleeing   \n",
            "1    Aloha    OR                    False       attack  Not fleeing   \n",
            "\n",
            "   body_camera  \n",
            "0        False  \n",
            "1        False  \n",
            "        id           name      date manner_of_death    armed   age gender  \\\n",
            "2533  2817  Isaiah Tucker  31/07/17            shot  vehicle  28.0      M   \n",
            "2534  2815   Dwayne Jeune  31/07/17            shot    knife  32.0      M   \n",
            "\n",
            "     race      city state  signs_of_mental_illness threat_level         flee  \\\n",
            "2533    B   Oshkosh    WI                    False       attack          Car   \n",
            "2534    B  Brooklyn    NY                     True       attack  Not fleeing   \n",
            "\n",
            "      body_camera  \n",
            "2533         True  \n",
            "2534        False  \n",
            "<class 'pandas.core.frame.DataFrame'>\n",
            "RangeIndex: 2535 entries, 0 to 2534\n",
            "Data columns (total 14 columns):\n",
            " #   Column                   Non-Null Count  Dtype  \n",
            "---  ------                   --------------  -----  \n",
            " 0   id                       2535 non-null   int64  \n",
            " 1   name                     2535 non-null   object \n",
            " 2   date                     2535 non-null   object \n",
            " 3   manner_of_death          2535 non-null   object \n",
            " 4   armed                    2526 non-null   object \n",
            " 5   age                      2458 non-null   float64\n",
            " 6   gender                   2535 non-null   object \n",
            " 7   race                     2340 non-null   object \n",
            " 8   city                     2535 non-null   object \n",
            " 9   state                    2535 non-null   object \n",
            " 10  signs_of_mental_illness  2535 non-null   bool   \n",
            " 11  threat_level             2535 non-null   object \n",
            " 12  flee                     2470 non-null   object \n",
            " 13  body_camera              2535 non-null   bool   \n",
            "dtypes: bool(2), float64(1), int64(1), object(10)\n",
            "memory usage: 242.7+ KB\n",
            "None\n",
            "\n",
            "                id          age\n",
            "count  2535.000000  2458.000000\n",
            "mean   1445.731755    36.605370\n",
            "std     794.259490    13.030774\n",
            "min       3.000000     6.000000\n",
            "25%     768.500000    26.000000\n",
            "50%    1453.000000    34.000000\n",
            "75%    2126.500000    45.000000\n",
            "max    2822.000000    91.000000\n",
            "\n",
            "COLUMNAS\n",
            "1 id\n",
            "2 name\n",
            "3 date\n",
            "4 manner_of_death\n",
            "5 armed\n",
            "6 age\n",
            "7 gender\n",
            "8 race\n",
            "9 city\n",
            "10 state\n",
            "11 signs_of_mental_illness\n",
            "12 threat_level\n",
            "13 flee\n",
            "14 body_camera\n"
          ]
        }
      ]
    },
    {
      "cell_type": "code",
      "source": [
        "# DATAFRAME 5 \n",
        "data_inspec(dataframe=raza_ciudades)"
      ],
      "metadata": {
        "colab": {
          "base_uri": "https://localhost:8080/"
        },
        "id": "gFh0jwjr-K3h",
        "outputId": "c62cfa6a-ab01-4508-f54f-7432c505dca7"
      },
      "execution_count": 1908,
      "outputs": [
        {
          "output_type": "stream",
          "name": "stdout",
          "text": [
            "  Geographic area            City share_white share_black  \\\n",
            "0              AL      Abanda CDP        67.2        30.2   \n",
            "1              AL  Abbeville city        54.4        41.4   \n",
            "\n",
            "  share_native_american share_asian share_hispanic  \n",
            "0                     0           0            1.6  \n",
            "1                   0.1           1            3.1  \n",
            "      Geographic area           City share_white share_black  \\\n",
            "29266              WY     Yoder town        97.4           0   \n",
            "29267              WY  Y-O Ranch CDP        92.8         1.5   \n",
            "\n",
            "      share_native_american share_asian share_hispanic  \n",
            "29266                     0           0              4  \n",
            "29267                   2.6           0           11.8  \n",
            "<class 'pandas.core.frame.DataFrame'>\n",
            "RangeIndex: 29268 entries, 0 to 29267\n",
            "Data columns (total 7 columns):\n",
            " #   Column                 Non-Null Count  Dtype \n",
            "---  ------                 --------------  ----- \n",
            " 0   Geographic area        29268 non-null  object\n",
            " 1   City                   29268 non-null  object\n",
            " 2   share_white            29268 non-null  object\n",
            " 3   share_black            29268 non-null  object\n",
            " 4   share_native_american  29268 non-null  object\n",
            " 5   share_asian            29268 non-null  object\n",
            " 6   share_hispanic         29268 non-null  object\n",
            "dtypes: object(7)\n",
            "memory usage: 1.6+ MB\n",
            "None\n",
            "\n",
            "       Geographic area           City share_white share_black  \\\n",
            "count            29268          29268       29268       29268   \n",
            "unique              51          24219         997         926   \n",
            "top                 PA  Franklin city         100           0   \n",
            "freq              1764             16        1051        6587   \n",
            "\n",
            "       share_native_american share_asian share_hispanic  \n",
            "count                  29268       29268          29268  \n",
            "unique                   628         409            956  \n",
            "top                        0           0              0  \n",
            "freq                    6930        8537           2489  \n",
            "\n",
            "COLUMNAS\n",
            "1 Geographic area\n",
            "2 City\n",
            "3 share_white\n",
            "4 share_black\n",
            "5 share_native_american\n",
            "6 share_asian\n",
            "7 share_hispanic\n"
          ]
        }
      ]
    },
    {
      "cell_type": "code",
      "source": [
        "#  Filas que contienen null\n",
        "ingreso_ciudades[ingreso_ciudades.isna().any(axis=1)]"
      ],
      "metadata": {
        "colab": {
          "base_uri": "https://localhost:8080/",
          "height": 1000
        },
        "id": "7y7sg5hHC0ql",
        "outputId": "3f6ae416-3d1f-4bc8-d130-c9ee818ecb5b"
      },
      "execution_count": 1909,
      "outputs": [
        {
          "output_type": "execute_result",
          "data": {
            "text/plain": [
              "      Geographic Area                    City Median Income\n",
              "29119              WY              Albany CDP           NaN\n",
              "29121              WY              Alcova CDP           NaN\n",
              "29123              WY    Alpine Northeast CDP           NaN\n",
              "29126              WY      Antelope Hills CDP           NaN\n",
              "29129              WY           Arlington CDP           NaN\n",
              "29130              WY   Arrowhead Springs CDP           NaN\n",
              "29132              WY       Atlantic City CDP           NaN\n",
              "29133              WY              Auburn CDP           NaN\n",
              "29139              WY             Bedford CDP           NaN\n",
              "29140              WY       Bessemer Bend CDP           NaN\n",
              "29141              WY              Beulah CDP           NaN\n",
              "29142              WY            Big Horn CDP           NaN\n",
              "29144              WY           Bondurant CDP           NaN\n",
              "29145              WY             Boulder CDP           NaN\n",
              "29152              WY           Carpenter CDP           NaN\n",
              "29153              WY              Carter CDP           NaN\n",
              "29156              WY          Centennial CDP           NaN\n",
              "29164              WY                Cora CDP           NaN\n",
              "29186              WY          Fontenelle CDP           NaN\n",
              "29187              WY        Fort Bridger CDP           NaN\n",
              "29191              WY            Fox Park CDP           NaN\n",
              "29207              WY           Hillsdale CDP           NaN\n",
              "29210              WY          Homa Hills CDP           NaN\n",
              "29213              WY             Huntley CDP           NaN\n",
              "29217              WY        Jeffrey City CDP           NaN\n",
              "29220              WY               Kelly CDP           NaN\n",
              "29225              WY      Lakeview North CDP           NaN\n",
              "29226              WY         Lance Creek CDP           NaN\n",
              "29230              WY      Little America CDP           NaN\n",
              "29231              WY            Lonetree CDP           NaN\n",
              "29232              WY       Lost Springs town           NaN\n",
              "29237              WY            McKinnon CDP           NaN\n",
              "29238              WY             Mammoth CDP           NaN\n",
              "29242              WY        Meadow Acres CDP           NaN\n",
              "29249              WY       Mountain View CDP           NaN\n",
              "29254              WY              Oakley CDP           NaN\n",
              "29255              WY               Opal town           NaN\n",
              "29256              WY                Orin CDP           NaN\n",
              "29259              WY           Owl Creek CDP           NaN\n",
              "29266              WY        Powder River CDP           NaN\n",
              "29282              WY           Ryan Park CDP           NaN\n",
              "29288              WY              Slater CDP           NaN\n",
              "29297              WY          Table Rock CDP           NaN\n",
              "29300              WY       Teton Village CDP           NaN\n",
              "29307              WY        Van Tassell town           NaN\n",
              "29308              WY             Veteran CDP           NaN\n",
              "29312              WY              Washam CDP           NaN\n",
              "29313              WY     Westview Circle CDP           NaN\n",
              "29315              WY             Whiting CDP           NaN\n",
              "29317              WY  Woods Landing-Jelm CDP           NaN\n",
              "29321              WY           Y-O Ranch CDP           NaN"
            ],
            "text/html": [
              "\n",
              "  <div id=\"df-348816c6-3ac7-4ba9-8aa5-0b32012c2c1f\">\n",
              "    <div class=\"colab-df-container\">\n",
              "      <div>\n",
              "<style scoped>\n",
              "    .dataframe tbody tr th:only-of-type {\n",
              "        vertical-align: middle;\n",
              "    }\n",
              "\n",
              "    .dataframe tbody tr th {\n",
              "        vertical-align: top;\n",
              "    }\n",
              "\n",
              "    .dataframe thead th {\n",
              "        text-align: right;\n",
              "    }\n",
              "</style>\n",
              "<table border=\"1\" class=\"dataframe\">\n",
              "  <thead>\n",
              "    <tr style=\"text-align: right;\">\n",
              "      <th></th>\n",
              "      <th>Geographic Area</th>\n",
              "      <th>City</th>\n",
              "      <th>Median Income</th>\n",
              "    </tr>\n",
              "  </thead>\n",
              "  <tbody>\n",
              "    <tr>\n",
              "      <th>29119</th>\n",
              "      <td>WY</td>\n",
              "      <td>Albany CDP</td>\n",
              "      <td>NaN</td>\n",
              "    </tr>\n",
              "    <tr>\n",
              "      <th>29121</th>\n",
              "      <td>WY</td>\n",
              "      <td>Alcova CDP</td>\n",
              "      <td>NaN</td>\n",
              "    </tr>\n",
              "    <tr>\n",
              "      <th>29123</th>\n",
              "      <td>WY</td>\n",
              "      <td>Alpine Northeast CDP</td>\n",
              "      <td>NaN</td>\n",
              "    </tr>\n",
              "    <tr>\n",
              "      <th>29126</th>\n",
              "      <td>WY</td>\n",
              "      <td>Antelope Hills CDP</td>\n",
              "      <td>NaN</td>\n",
              "    </tr>\n",
              "    <tr>\n",
              "      <th>29129</th>\n",
              "      <td>WY</td>\n",
              "      <td>Arlington CDP</td>\n",
              "      <td>NaN</td>\n",
              "    </tr>\n",
              "    <tr>\n",
              "      <th>29130</th>\n",
              "      <td>WY</td>\n",
              "      <td>Arrowhead Springs CDP</td>\n",
              "      <td>NaN</td>\n",
              "    </tr>\n",
              "    <tr>\n",
              "      <th>29132</th>\n",
              "      <td>WY</td>\n",
              "      <td>Atlantic City CDP</td>\n",
              "      <td>NaN</td>\n",
              "    </tr>\n",
              "    <tr>\n",
              "      <th>29133</th>\n",
              "      <td>WY</td>\n",
              "      <td>Auburn CDP</td>\n",
              "      <td>NaN</td>\n",
              "    </tr>\n",
              "    <tr>\n",
              "      <th>29139</th>\n",
              "      <td>WY</td>\n",
              "      <td>Bedford CDP</td>\n",
              "      <td>NaN</td>\n",
              "    </tr>\n",
              "    <tr>\n",
              "      <th>29140</th>\n",
              "      <td>WY</td>\n",
              "      <td>Bessemer Bend CDP</td>\n",
              "      <td>NaN</td>\n",
              "    </tr>\n",
              "    <tr>\n",
              "      <th>29141</th>\n",
              "      <td>WY</td>\n",
              "      <td>Beulah CDP</td>\n",
              "      <td>NaN</td>\n",
              "    </tr>\n",
              "    <tr>\n",
              "      <th>29142</th>\n",
              "      <td>WY</td>\n",
              "      <td>Big Horn CDP</td>\n",
              "      <td>NaN</td>\n",
              "    </tr>\n",
              "    <tr>\n",
              "      <th>29144</th>\n",
              "      <td>WY</td>\n",
              "      <td>Bondurant CDP</td>\n",
              "      <td>NaN</td>\n",
              "    </tr>\n",
              "    <tr>\n",
              "      <th>29145</th>\n",
              "      <td>WY</td>\n",
              "      <td>Boulder CDP</td>\n",
              "      <td>NaN</td>\n",
              "    </tr>\n",
              "    <tr>\n",
              "      <th>29152</th>\n",
              "      <td>WY</td>\n",
              "      <td>Carpenter CDP</td>\n",
              "      <td>NaN</td>\n",
              "    </tr>\n",
              "    <tr>\n",
              "      <th>29153</th>\n",
              "      <td>WY</td>\n",
              "      <td>Carter CDP</td>\n",
              "      <td>NaN</td>\n",
              "    </tr>\n",
              "    <tr>\n",
              "      <th>29156</th>\n",
              "      <td>WY</td>\n",
              "      <td>Centennial CDP</td>\n",
              "      <td>NaN</td>\n",
              "    </tr>\n",
              "    <tr>\n",
              "      <th>29164</th>\n",
              "      <td>WY</td>\n",
              "      <td>Cora CDP</td>\n",
              "      <td>NaN</td>\n",
              "    </tr>\n",
              "    <tr>\n",
              "      <th>29186</th>\n",
              "      <td>WY</td>\n",
              "      <td>Fontenelle CDP</td>\n",
              "      <td>NaN</td>\n",
              "    </tr>\n",
              "    <tr>\n",
              "      <th>29187</th>\n",
              "      <td>WY</td>\n",
              "      <td>Fort Bridger CDP</td>\n",
              "      <td>NaN</td>\n",
              "    </tr>\n",
              "    <tr>\n",
              "      <th>29191</th>\n",
              "      <td>WY</td>\n",
              "      <td>Fox Park CDP</td>\n",
              "      <td>NaN</td>\n",
              "    </tr>\n",
              "    <tr>\n",
              "      <th>29207</th>\n",
              "      <td>WY</td>\n",
              "      <td>Hillsdale CDP</td>\n",
              "      <td>NaN</td>\n",
              "    </tr>\n",
              "    <tr>\n",
              "      <th>29210</th>\n",
              "      <td>WY</td>\n",
              "      <td>Homa Hills CDP</td>\n",
              "      <td>NaN</td>\n",
              "    </tr>\n",
              "    <tr>\n",
              "      <th>29213</th>\n",
              "      <td>WY</td>\n",
              "      <td>Huntley CDP</td>\n",
              "      <td>NaN</td>\n",
              "    </tr>\n",
              "    <tr>\n",
              "      <th>29217</th>\n",
              "      <td>WY</td>\n",
              "      <td>Jeffrey City CDP</td>\n",
              "      <td>NaN</td>\n",
              "    </tr>\n",
              "    <tr>\n",
              "      <th>29220</th>\n",
              "      <td>WY</td>\n",
              "      <td>Kelly CDP</td>\n",
              "      <td>NaN</td>\n",
              "    </tr>\n",
              "    <tr>\n",
              "      <th>29225</th>\n",
              "      <td>WY</td>\n",
              "      <td>Lakeview North CDP</td>\n",
              "      <td>NaN</td>\n",
              "    </tr>\n",
              "    <tr>\n",
              "      <th>29226</th>\n",
              "      <td>WY</td>\n",
              "      <td>Lance Creek CDP</td>\n",
              "      <td>NaN</td>\n",
              "    </tr>\n",
              "    <tr>\n",
              "      <th>29230</th>\n",
              "      <td>WY</td>\n",
              "      <td>Little America CDP</td>\n",
              "      <td>NaN</td>\n",
              "    </tr>\n",
              "    <tr>\n",
              "      <th>29231</th>\n",
              "      <td>WY</td>\n",
              "      <td>Lonetree CDP</td>\n",
              "      <td>NaN</td>\n",
              "    </tr>\n",
              "    <tr>\n",
              "      <th>29232</th>\n",
              "      <td>WY</td>\n",
              "      <td>Lost Springs town</td>\n",
              "      <td>NaN</td>\n",
              "    </tr>\n",
              "    <tr>\n",
              "      <th>29237</th>\n",
              "      <td>WY</td>\n",
              "      <td>McKinnon CDP</td>\n",
              "      <td>NaN</td>\n",
              "    </tr>\n",
              "    <tr>\n",
              "      <th>29238</th>\n",
              "      <td>WY</td>\n",
              "      <td>Mammoth CDP</td>\n",
              "      <td>NaN</td>\n",
              "    </tr>\n",
              "    <tr>\n",
              "      <th>29242</th>\n",
              "      <td>WY</td>\n",
              "      <td>Meadow Acres CDP</td>\n",
              "      <td>NaN</td>\n",
              "    </tr>\n",
              "    <tr>\n",
              "      <th>29249</th>\n",
              "      <td>WY</td>\n",
              "      <td>Mountain View CDP</td>\n",
              "      <td>NaN</td>\n",
              "    </tr>\n",
              "    <tr>\n",
              "      <th>29254</th>\n",
              "      <td>WY</td>\n",
              "      <td>Oakley CDP</td>\n",
              "      <td>NaN</td>\n",
              "    </tr>\n",
              "    <tr>\n",
              "      <th>29255</th>\n",
              "      <td>WY</td>\n",
              "      <td>Opal town</td>\n",
              "      <td>NaN</td>\n",
              "    </tr>\n",
              "    <tr>\n",
              "      <th>29256</th>\n",
              "      <td>WY</td>\n",
              "      <td>Orin CDP</td>\n",
              "      <td>NaN</td>\n",
              "    </tr>\n",
              "    <tr>\n",
              "      <th>29259</th>\n",
              "      <td>WY</td>\n",
              "      <td>Owl Creek CDP</td>\n",
              "      <td>NaN</td>\n",
              "    </tr>\n",
              "    <tr>\n",
              "      <th>29266</th>\n",
              "      <td>WY</td>\n",
              "      <td>Powder River CDP</td>\n",
              "      <td>NaN</td>\n",
              "    </tr>\n",
              "    <tr>\n",
              "      <th>29282</th>\n",
              "      <td>WY</td>\n",
              "      <td>Ryan Park CDP</td>\n",
              "      <td>NaN</td>\n",
              "    </tr>\n",
              "    <tr>\n",
              "      <th>29288</th>\n",
              "      <td>WY</td>\n",
              "      <td>Slater CDP</td>\n",
              "      <td>NaN</td>\n",
              "    </tr>\n",
              "    <tr>\n",
              "      <th>29297</th>\n",
              "      <td>WY</td>\n",
              "      <td>Table Rock CDP</td>\n",
              "      <td>NaN</td>\n",
              "    </tr>\n",
              "    <tr>\n",
              "      <th>29300</th>\n",
              "      <td>WY</td>\n",
              "      <td>Teton Village CDP</td>\n",
              "      <td>NaN</td>\n",
              "    </tr>\n",
              "    <tr>\n",
              "      <th>29307</th>\n",
              "      <td>WY</td>\n",
              "      <td>Van Tassell town</td>\n",
              "      <td>NaN</td>\n",
              "    </tr>\n",
              "    <tr>\n",
              "      <th>29308</th>\n",
              "      <td>WY</td>\n",
              "      <td>Veteran CDP</td>\n",
              "      <td>NaN</td>\n",
              "    </tr>\n",
              "    <tr>\n",
              "      <th>29312</th>\n",
              "      <td>WY</td>\n",
              "      <td>Washam CDP</td>\n",
              "      <td>NaN</td>\n",
              "    </tr>\n",
              "    <tr>\n",
              "      <th>29313</th>\n",
              "      <td>WY</td>\n",
              "      <td>Westview Circle CDP</td>\n",
              "      <td>NaN</td>\n",
              "    </tr>\n",
              "    <tr>\n",
              "      <th>29315</th>\n",
              "      <td>WY</td>\n",
              "      <td>Whiting CDP</td>\n",
              "      <td>NaN</td>\n",
              "    </tr>\n",
              "    <tr>\n",
              "      <th>29317</th>\n",
              "      <td>WY</td>\n",
              "      <td>Woods Landing-Jelm CDP</td>\n",
              "      <td>NaN</td>\n",
              "    </tr>\n",
              "    <tr>\n",
              "      <th>29321</th>\n",
              "      <td>WY</td>\n",
              "      <td>Y-O Ranch CDP</td>\n",
              "      <td>NaN</td>\n",
              "    </tr>\n",
              "  </tbody>\n",
              "</table>\n",
              "</div>\n",
              "      <button class=\"colab-df-convert\" onclick=\"convertToInteractive('df-348816c6-3ac7-4ba9-8aa5-0b32012c2c1f')\"\n",
              "              title=\"Convert this dataframe to an interactive table.\"\n",
              "              style=\"display:none;\">\n",
              "        \n",
              "  <svg xmlns=\"http://www.w3.org/2000/svg\" height=\"24px\"viewBox=\"0 0 24 24\"\n",
              "       width=\"24px\">\n",
              "    <path d=\"M0 0h24v24H0V0z\" fill=\"none\"/>\n",
              "    <path d=\"M18.56 5.44l.94 2.06.94-2.06 2.06-.94-2.06-.94-.94-2.06-.94 2.06-2.06.94zm-11 1L8.5 8.5l.94-2.06 2.06-.94-2.06-.94L8.5 2.5l-.94 2.06-2.06.94zm10 10l.94 2.06.94-2.06 2.06-.94-2.06-.94-.94-2.06-.94 2.06-2.06.94z\"/><path d=\"M17.41 7.96l-1.37-1.37c-.4-.4-.92-.59-1.43-.59-.52 0-1.04.2-1.43.59L10.3 9.45l-7.72 7.72c-.78.78-.78 2.05 0 2.83L4 21.41c.39.39.9.59 1.41.59.51 0 1.02-.2 1.41-.59l7.78-7.78 2.81-2.81c.8-.78.8-2.07 0-2.86zM5.41 20L4 18.59l7.72-7.72 1.47 1.35L5.41 20z\"/>\n",
              "  </svg>\n",
              "      </button>\n",
              "      \n",
              "  <style>\n",
              "    .colab-df-container {\n",
              "      display:flex;\n",
              "      flex-wrap:wrap;\n",
              "      gap: 12px;\n",
              "    }\n",
              "\n",
              "    .colab-df-convert {\n",
              "      background-color: #E8F0FE;\n",
              "      border: none;\n",
              "      border-radius: 50%;\n",
              "      cursor: pointer;\n",
              "      display: none;\n",
              "      fill: #1967D2;\n",
              "      height: 32px;\n",
              "      padding: 0 0 0 0;\n",
              "      width: 32px;\n",
              "    }\n",
              "\n",
              "    .colab-df-convert:hover {\n",
              "      background-color: #E2EBFA;\n",
              "      box-shadow: 0px 1px 2px rgba(60, 64, 67, 0.3), 0px 1px 3px 1px rgba(60, 64, 67, 0.15);\n",
              "      fill: #174EA6;\n",
              "    }\n",
              "\n",
              "    [theme=dark] .colab-df-convert {\n",
              "      background-color: #3B4455;\n",
              "      fill: #D2E3FC;\n",
              "    }\n",
              "\n",
              "    [theme=dark] .colab-df-convert:hover {\n",
              "      background-color: #434B5C;\n",
              "      box-shadow: 0px 1px 3px 1px rgba(0, 0, 0, 0.15);\n",
              "      filter: drop-shadow(0px 1px 2px rgba(0, 0, 0, 0.3));\n",
              "      fill: #FFFFFF;\n",
              "    }\n",
              "  </style>\n",
              "\n",
              "      <script>\n",
              "        const buttonEl =\n",
              "          document.querySelector('#df-348816c6-3ac7-4ba9-8aa5-0b32012c2c1f button.colab-df-convert');\n",
              "        buttonEl.style.display =\n",
              "          google.colab.kernel.accessAllowed ? 'block' : 'none';\n",
              "\n",
              "        async function convertToInteractive(key) {\n",
              "          const element = document.querySelector('#df-348816c6-3ac7-4ba9-8aa5-0b32012c2c1f');\n",
              "          const dataTable =\n",
              "            await google.colab.kernel.invokeFunction('convertToInteractive',\n",
              "                                                     [key], {});\n",
              "          if (!dataTable) return;\n",
              "\n",
              "          const docLinkHtml = 'Like what you see? Visit the ' +\n",
              "            '<a target=\"_blank\" href=https://colab.research.google.com/notebooks/data_table.ipynb>data table notebook</a>'\n",
              "            + ' to learn more about interactive tables.';\n",
              "          element.innerHTML = '';\n",
              "          dataTable['output_type'] = 'display_data';\n",
              "          await google.colab.output.renderOutput(dataTable, element);\n",
              "          const docLink = document.createElement('div');\n",
              "          docLink.innerHTML = docLinkHtml;\n",
              "          element.appendChild(docLink);\n",
              "        }\n",
              "      </script>\n",
              "    </div>\n",
              "  </div>\n",
              "  "
            ]
          },
          "metadata": {},
          "execution_count": 1909
        }
      ]
    },
    {
      "cell_type": "code",
      "source": [
        "#  Filas que contienen null\n",
        "policia_asesinatos[policia_asesinatos.isna().any(axis=1)]"
      ],
      "metadata": {
        "colab": {
          "base_uri": "https://localhost:8080/",
          "height": 424
        },
        "id": "3TE7vRB2DTms",
        "outputId": "a48fb5b9-7926-4094-b11b-2b9b4c79e632"
      },
      "execution_count": 1910,
      "outputs": [
        {
          "output_type": "execute_result",
          "data": {
            "text/plain": [
              "        id                name      date   manner_of_death    armed   age  \\\n",
              "59     110    William Campbell  25/01/15              shot      gun  59.0   \n",
              "124    584   Alejandro Salazar  20/02/15              shot      gun   NaN   \n",
              "241    244  John Marcell Allen  30/03/15              shot      gun  54.0   \n",
              "266    534          Mark Smith  09/04/15  shot and Tasered  vehicle  54.0   \n",
              "340    433          Joseph Roy  07/05/15              shot    knife  72.0   \n",
              "...    ...                 ...       ...               ...      ...   ...   \n",
              "2528  2812  Alejandro Alvarado  27/07/17              shot    knife   NaN   \n",
              "2529  2819    Brian J. Skinner  28/07/17              shot    knife  32.0   \n",
              "2530  2822    Rodney E. Jacobs  28/07/17              shot      gun  31.0   \n",
              "2531  2813               TK TK  28/07/17              shot  vehicle   NaN   \n",
              "2532  2818  Dennis W. Robinson  29/07/17              shot      gun  48.0   \n",
              "\n",
              "     gender race           city state  signs_of_mental_illness threat_level  \\\n",
              "59        M  NaN        Winslow    NJ                    False       attack   \n",
              "124       M    H        Houston    TX                    False       attack   \n",
              "241       M  NaN   Boulder City    NV                    False       attack   \n",
              "266       M  NaN     Kellyville    OK                    False       attack   \n",
              "340       M  NaN  Lawrenceville    GA                     True        other   \n",
              "...     ...  ...            ...   ...                      ...          ...   \n",
              "2528      M    H     Chowchilla    CA                    False       attack   \n",
              "2529      M  NaN      Glenville    NY                     True        other   \n",
              "2530      M  NaN    Kansas City    MO                    False       attack   \n",
              "2531      M  NaN    Albuquerque    NM                    False       attack   \n",
              "2532      M  NaN          Melba    ID                    False       attack   \n",
              "\n",
              "             flee  body_camera  \n",
              "59    Not fleeing        False  \n",
              "124           Car        False  \n",
              "241   Not fleeing        False  \n",
              "266         Other        False  \n",
              "340   Not fleeing        False  \n",
              "...           ...          ...  \n",
              "2528  Not fleeing        False  \n",
              "2529  Not fleeing        False  \n",
              "2530  Not fleeing        False  \n",
              "2531          Car        False  \n",
              "2532          Car        False  \n",
              "\n",
              "[281 rows x 14 columns]"
            ],
            "text/html": [
              "\n",
              "  <div id=\"df-563e4d9a-861e-49fa-82d2-19588d609f46\">\n",
              "    <div class=\"colab-df-container\">\n",
              "      <div>\n",
              "<style scoped>\n",
              "    .dataframe tbody tr th:only-of-type {\n",
              "        vertical-align: middle;\n",
              "    }\n",
              "\n",
              "    .dataframe tbody tr th {\n",
              "        vertical-align: top;\n",
              "    }\n",
              "\n",
              "    .dataframe thead th {\n",
              "        text-align: right;\n",
              "    }\n",
              "</style>\n",
              "<table border=\"1\" class=\"dataframe\">\n",
              "  <thead>\n",
              "    <tr style=\"text-align: right;\">\n",
              "      <th></th>\n",
              "      <th>id</th>\n",
              "      <th>name</th>\n",
              "      <th>date</th>\n",
              "      <th>manner_of_death</th>\n",
              "      <th>armed</th>\n",
              "      <th>age</th>\n",
              "      <th>gender</th>\n",
              "      <th>race</th>\n",
              "      <th>city</th>\n",
              "      <th>state</th>\n",
              "      <th>signs_of_mental_illness</th>\n",
              "      <th>threat_level</th>\n",
              "      <th>flee</th>\n",
              "      <th>body_camera</th>\n",
              "    </tr>\n",
              "  </thead>\n",
              "  <tbody>\n",
              "    <tr>\n",
              "      <th>59</th>\n",
              "      <td>110</td>\n",
              "      <td>William Campbell</td>\n",
              "      <td>25/01/15</td>\n",
              "      <td>shot</td>\n",
              "      <td>gun</td>\n",
              "      <td>59.0</td>\n",
              "      <td>M</td>\n",
              "      <td>NaN</td>\n",
              "      <td>Winslow</td>\n",
              "      <td>NJ</td>\n",
              "      <td>False</td>\n",
              "      <td>attack</td>\n",
              "      <td>Not fleeing</td>\n",
              "      <td>False</td>\n",
              "    </tr>\n",
              "    <tr>\n",
              "      <th>124</th>\n",
              "      <td>584</td>\n",
              "      <td>Alejandro Salazar</td>\n",
              "      <td>20/02/15</td>\n",
              "      <td>shot</td>\n",
              "      <td>gun</td>\n",
              "      <td>NaN</td>\n",
              "      <td>M</td>\n",
              "      <td>H</td>\n",
              "      <td>Houston</td>\n",
              "      <td>TX</td>\n",
              "      <td>False</td>\n",
              "      <td>attack</td>\n",
              "      <td>Car</td>\n",
              "      <td>False</td>\n",
              "    </tr>\n",
              "    <tr>\n",
              "      <th>241</th>\n",
              "      <td>244</td>\n",
              "      <td>John Marcell Allen</td>\n",
              "      <td>30/03/15</td>\n",
              "      <td>shot</td>\n",
              "      <td>gun</td>\n",
              "      <td>54.0</td>\n",
              "      <td>M</td>\n",
              "      <td>NaN</td>\n",
              "      <td>Boulder City</td>\n",
              "      <td>NV</td>\n",
              "      <td>False</td>\n",
              "      <td>attack</td>\n",
              "      <td>Not fleeing</td>\n",
              "      <td>False</td>\n",
              "    </tr>\n",
              "    <tr>\n",
              "      <th>266</th>\n",
              "      <td>534</td>\n",
              "      <td>Mark Smith</td>\n",
              "      <td>09/04/15</td>\n",
              "      <td>shot and Tasered</td>\n",
              "      <td>vehicle</td>\n",
              "      <td>54.0</td>\n",
              "      <td>M</td>\n",
              "      <td>NaN</td>\n",
              "      <td>Kellyville</td>\n",
              "      <td>OK</td>\n",
              "      <td>False</td>\n",
              "      <td>attack</td>\n",
              "      <td>Other</td>\n",
              "      <td>False</td>\n",
              "    </tr>\n",
              "    <tr>\n",
              "      <th>340</th>\n",
              "      <td>433</td>\n",
              "      <td>Joseph Roy</td>\n",
              "      <td>07/05/15</td>\n",
              "      <td>shot</td>\n",
              "      <td>knife</td>\n",
              "      <td>72.0</td>\n",
              "      <td>M</td>\n",
              "      <td>NaN</td>\n",
              "      <td>Lawrenceville</td>\n",
              "      <td>GA</td>\n",
              "      <td>True</td>\n",
              "      <td>other</td>\n",
              "      <td>Not fleeing</td>\n",
              "      <td>False</td>\n",
              "    </tr>\n",
              "    <tr>\n",
              "      <th>...</th>\n",
              "      <td>...</td>\n",
              "      <td>...</td>\n",
              "      <td>...</td>\n",
              "      <td>...</td>\n",
              "      <td>...</td>\n",
              "      <td>...</td>\n",
              "      <td>...</td>\n",
              "      <td>...</td>\n",
              "      <td>...</td>\n",
              "      <td>...</td>\n",
              "      <td>...</td>\n",
              "      <td>...</td>\n",
              "      <td>...</td>\n",
              "      <td>...</td>\n",
              "    </tr>\n",
              "    <tr>\n",
              "      <th>2528</th>\n",
              "      <td>2812</td>\n",
              "      <td>Alejandro Alvarado</td>\n",
              "      <td>27/07/17</td>\n",
              "      <td>shot</td>\n",
              "      <td>knife</td>\n",
              "      <td>NaN</td>\n",
              "      <td>M</td>\n",
              "      <td>H</td>\n",
              "      <td>Chowchilla</td>\n",
              "      <td>CA</td>\n",
              "      <td>False</td>\n",
              "      <td>attack</td>\n",
              "      <td>Not fleeing</td>\n",
              "      <td>False</td>\n",
              "    </tr>\n",
              "    <tr>\n",
              "      <th>2529</th>\n",
              "      <td>2819</td>\n",
              "      <td>Brian J. Skinner</td>\n",
              "      <td>28/07/17</td>\n",
              "      <td>shot</td>\n",
              "      <td>knife</td>\n",
              "      <td>32.0</td>\n",
              "      <td>M</td>\n",
              "      <td>NaN</td>\n",
              "      <td>Glenville</td>\n",
              "      <td>NY</td>\n",
              "      <td>True</td>\n",
              "      <td>other</td>\n",
              "      <td>Not fleeing</td>\n",
              "      <td>False</td>\n",
              "    </tr>\n",
              "    <tr>\n",
              "      <th>2530</th>\n",
              "      <td>2822</td>\n",
              "      <td>Rodney E. Jacobs</td>\n",
              "      <td>28/07/17</td>\n",
              "      <td>shot</td>\n",
              "      <td>gun</td>\n",
              "      <td>31.0</td>\n",
              "      <td>M</td>\n",
              "      <td>NaN</td>\n",
              "      <td>Kansas City</td>\n",
              "      <td>MO</td>\n",
              "      <td>False</td>\n",
              "      <td>attack</td>\n",
              "      <td>Not fleeing</td>\n",
              "      <td>False</td>\n",
              "    </tr>\n",
              "    <tr>\n",
              "      <th>2531</th>\n",
              "      <td>2813</td>\n",
              "      <td>TK TK</td>\n",
              "      <td>28/07/17</td>\n",
              "      <td>shot</td>\n",
              "      <td>vehicle</td>\n",
              "      <td>NaN</td>\n",
              "      <td>M</td>\n",
              "      <td>NaN</td>\n",
              "      <td>Albuquerque</td>\n",
              "      <td>NM</td>\n",
              "      <td>False</td>\n",
              "      <td>attack</td>\n",
              "      <td>Car</td>\n",
              "      <td>False</td>\n",
              "    </tr>\n",
              "    <tr>\n",
              "      <th>2532</th>\n",
              "      <td>2818</td>\n",
              "      <td>Dennis W. Robinson</td>\n",
              "      <td>29/07/17</td>\n",
              "      <td>shot</td>\n",
              "      <td>gun</td>\n",
              "      <td>48.0</td>\n",
              "      <td>M</td>\n",
              "      <td>NaN</td>\n",
              "      <td>Melba</td>\n",
              "      <td>ID</td>\n",
              "      <td>False</td>\n",
              "      <td>attack</td>\n",
              "      <td>Car</td>\n",
              "      <td>False</td>\n",
              "    </tr>\n",
              "  </tbody>\n",
              "</table>\n",
              "<p>281 rows × 14 columns</p>\n",
              "</div>\n",
              "      <button class=\"colab-df-convert\" onclick=\"convertToInteractive('df-563e4d9a-861e-49fa-82d2-19588d609f46')\"\n",
              "              title=\"Convert this dataframe to an interactive table.\"\n",
              "              style=\"display:none;\">\n",
              "        \n",
              "  <svg xmlns=\"http://www.w3.org/2000/svg\" height=\"24px\"viewBox=\"0 0 24 24\"\n",
              "       width=\"24px\">\n",
              "    <path d=\"M0 0h24v24H0V0z\" fill=\"none\"/>\n",
              "    <path d=\"M18.56 5.44l.94 2.06.94-2.06 2.06-.94-2.06-.94-.94-2.06-.94 2.06-2.06.94zm-11 1L8.5 8.5l.94-2.06 2.06-.94-2.06-.94L8.5 2.5l-.94 2.06-2.06.94zm10 10l.94 2.06.94-2.06 2.06-.94-2.06-.94-.94-2.06-.94 2.06-2.06.94z\"/><path d=\"M17.41 7.96l-1.37-1.37c-.4-.4-.92-.59-1.43-.59-.52 0-1.04.2-1.43.59L10.3 9.45l-7.72 7.72c-.78.78-.78 2.05 0 2.83L4 21.41c.39.39.9.59 1.41.59.51 0 1.02-.2 1.41-.59l7.78-7.78 2.81-2.81c.8-.78.8-2.07 0-2.86zM5.41 20L4 18.59l7.72-7.72 1.47 1.35L5.41 20z\"/>\n",
              "  </svg>\n",
              "      </button>\n",
              "      \n",
              "  <style>\n",
              "    .colab-df-container {\n",
              "      display:flex;\n",
              "      flex-wrap:wrap;\n",
              "      gap: 12px;\n",
              "    }\n",
              "\n",
              "    .colab-df-convert {\n",
              "      background-color: #E8F0FE;\n",
              "      border: none;\n",
              "      border-radius: 50%;\n",
              "      cursor: pointer;\n",
              "      display: none;\n",
              "      fill: #1967D2;\n",
              "      height: 32px;\n",
              "      padding: 0 0 0 0;\n",
              "      width: 32px;\n",
              "    }\n",
              "\n",
              "    .colab-df-convert:hover {\n",
              "      background-color: #E2EBFA;\n",
              "      box-shadow: 0px 1px 2px rgba(60, 64, 67, 0.3), 0px 1px 3px 1px rgba(60, 64, 67, 0.15);\n",
              "      fill: #174EA6;\n",
              "    }\n",
              "\n",
              "    [theme=dark] .colab-df-convert {\n",
              "      background-color: #3B4455;\n",
              "      fill: #D2E3FC;\n",
              "    }\n",
              "\n",
              "    [theme=dark] .colab-df-convert:hover {\n",
              "      background-color: #434B5C;\n",
              "      box-shadow: 0px 1px 3px 1px rgba(0, 0, 0, 0.15);\n",
              "      filter: drop-shadow(0px 1px 2px rgba(0, 0, 0, 0.3));\n",
              "      fill: #FFFFFF;\n",
              "    }\n",
              "  </style>\n",
              "\n",
              "      <script>\n",
              "        const buttonEl =\n",
              "          document.querySelector('#df-563e4d9a-861e-49fa-82d2-19588d609f46 button.colab-df-convert');\n",
              "        buttonEl.style.display =\n",
              "          google.colab.kernel.accessAllowed ? 'block' : 'none';\n",
              "\n",
              "        async function convertToInteractive(key) {\n",
              "          const element = document.querySelector('#df-563e4d9a-861e-49fa-82d2-19588d609f46');\n",
              "          const dataTable =\n",
              "            await google.colab.kernel.invokeFunction('convertToInteractive',\n",
              "                                                     [key], {});\n",
              "          if (!dataTable) return;\n",
              "\n",
              "          const docLinkHtml = 'Like what you see? Visit the ' +\n",
              "            '<a target=\"_blank\" href=https://colab.research.google.com/notebooks/data_table.ipynb>data table notebook</a>'\n",
              "            + ' to learn more about interactive tables.';\n",
              "          element.innerHTML = '';\n",
              "          dataTable['output_type'] = 'display_data';\n",
              "          await google.colab.output.renderOutput(dataTable, element);\n",
              "          const docLink = document.createElement('div');\n",
              "          docLink.innerHTML = docLinkHtml;\n",
              "          element.appendChild(docLink);\n",
              "        }\n",
              "      </script>\n",
              "    </div>\n",
              "  </div>\n",
              "  "
            ]
          },
          "metadata": {},
          "execution_count": 1910
        }
      ]
    },
    {
      "cell_type": "code",
      "source": [
        "# Comparando el estado que hace falta\n",
        "count_one =pd.DataFrame(educacion_ciudades['Geographic Area'].value_counts())\n",
        "count_one.columns = ['conteo_educacion']\n",
        "count_two = ingreso_ciudades['Geographic Area'].value_counts()\n",
        "count_two.columns = ['conteo_ingreso']\n",
        "count_three = pd.DataFrame(pobreza_ciudades['Geographic Area'].value_counts())\n",
        "count_three.columns = ['conteo_pobreza']\n",
        "count_four = pd.DataFrame(raza_ciudades['Geographic area'].value_counts())\n",
        "count_four.columns = ['conteo_raza']\n",
        "# Right Join de Conteo por Estado o área geografica\n",
        "geographic_count = count_one.join([count_two, count_three, count_four])"
      ],
      "metadata": {
        "id": "ISmaYIT4EZOP"
      },
      "execution_count": 1911,
      "outputs": []
    },
    {
      "cell_type": "code",
      "source": [
        "# Conteo por Estado\n",
        "geographic_count"
      ],
      "metadata": {
        "colab": {
          "base_uri": "https://localhost:8080/",
          "height": 1000
        },
        "id": "B0hPemDTJDfk",
        "outputId": "722aa539-1181-4152-881a-c6f3b4ccf0e8"
      },
      "execution_count": 1912,
      "outputs": [
        {
          "output_type": "execute_result",
          "data": {
            "text/plain": [
              "    conteo_educacion  Geographic Area  conteo_pobreza  conteo_raza\n",
              "PA              1762             1762            1762         1764\n",
              "TX              1747             1747            1747         1752\n",
              "CA              1522             1522            1522         1523\n",
              "IL              1368             1368            1368         1367\n",
              "OH              1215             1215            1215         1204\n",
              "NY              1196             1196            1196         1189\n",
              "MO              1033             1033            1033         1032\n",
              "IA              1008             1008            1008         1009\n",
              "FL               918              918             918          920\n",
              "MN               903              903             903          906\n",
              "WI               777              777             777          773\n",
              "OK               743              743             743          733\n",
              "NC               739              739             739          739\n",
              "MI               692              692             692          692\n",
              "IN               680              679             680          682\n",
              "KS               672              671             672          671\n",
              "GA               627              625             627          626\n",
              "WA               627              627             627          628\n",
              "VA               593              593             593          591\n",
              "AL               585              585             585          578\n",
              "NE               580              580             580          580\n",
              "NJ               545              545             545          545\n",
              "AR               541              541             541          541\n",
              "KY               540              539             540          525\n",
              "MD               518              518             518          518\n",
              "LA               474              474             474          473\n",
              "CO               458              458             458          458\n",
              "AZ               451              451             451          451\n",
              "NM               443              443             443          443\n",
              "TN               430              429             430          429\n",
              "WV               405              405             405          401\n",
              "ND               401              401             401          401\n",
              "SC               396              396             396          395\n",
              "SD               391              391             391          390\n",
              "OR               377              377             377          377\n",
              "MT               365              364             365          365\n",
              "MS               362              362             362          362\n",
              "AK               355              355             355          355\n",
              "UT               325              325             325          326\n",
              "MA               246              246             246          244\n",
              "ID               227              227             227          227\n",
              "WY               204              204             204          203\n",
              "HI               151              152             151          151\n",
              "CT               144              143             144          143\n",
              "NV               131              131             131          129\n",
              "ME               130              130             130          131\n",
              "VT               121              121             121          119\n",
              "NH                97               97              97           96\n",
              "DE                77               77              77           76\n",
              "RI                36               36              36           34\n",
              "DC                 1                1               1            1"
            ],
            "text/html": [
              "\n",
              "  <div id=\"df-c1764172-050b-4387-ac62-9649f2308251\">\n",
              "    <div class=\"colab-df-container\">\n",
              "      <div>\n",
              "<style scoped>\n",
              "    .dataframe tbody tr th:only-of-type {\n",
              "        vertical-align: middle;\n",
              "    }\n",
              "\n",
              "    .dataframe tbody tr th {\n",
              "        vertical-align: top;\n",
              "    }\n",
              "\n",
              "    .dataframe thead th {\n",
              "        text-align: right;\n",
              "    }\n",
              "</style>\n",
              "<table border=\"1\" class=\"dataframe\">\n",
              "  <thead>\n",
              "    <tr style=\"text-align: right;\">\n",
              "      <th></th>\n",
              "      <th>conteo_educacion</th>\n",
              "      <th>Geographic Area</th>\n",
              "      <th>conteo_pobreza</th>\n",
              "      <th>conteo_raza</th>\n",
              "    </tr>\n",
              "  </thead>\n",
              "  <tbody>\n",
              "    <tr>\n",
              "      <th>PA</th>\n",
              "      <td>1762</td>\n",
              "      <td>1762</td>\n",
              "      <td>1762</td>\n",
              "      <td>1764</td>\n",
              "    </tr>\n",
              "    <tr>\n",
              "      <th>TX</th>\n",
              "      <td>1747</td>\n",
              "      <td>1747</td>\n",
              "      <td>1747</td>\n",
              "      <td>1752</td>\n",
              "    </tr>\n",
              "    <tr>\n",
              "      <th>CA</th>\n",
              "      <td>1522</td>\n",
              "      <td>1522</td>\n",
              "      <td>1522</td>\n",
              "      <td>1523</td>\n",
              "    </tr>\n",
              "    <tr>\n",
              "      <th>IL</th>\n",
              "      <td>1368</td>\n",
              "      <td>1368</td>\n",
              "      <td>1368</td>\n",
              "      <td>1367</td>\n",
              "    </tr>\n",
              "    <tr>\n",
              "      <th>OH</th>\n",
              "      <td>1215</td>\n",
              "      <td>1215</td>\n",
              "      <td>1215</td>\n",
              "      <td>1204</td>\n",
              "    </tr>\n",
              "    <tr>\n",
              "      <th>NY</th>\n",
              "      <td>1196</td>\n",
              "      <td>1196</td>\n",
              "      <td>1196</td>\n",
              "      <td>1189</td>\n",
              "    </tr>\n",
              "    <tr>\n",
              "      <th>MO</th>\n",
              "      <td>1033</td>\n",
              "      <td>1033</td>\n",
              "      <td>1033</td>\n",
              "      <td>1032</td>\n",
              "    </tr>\n",
              "    <tr>\n",
              "      <th>IA</th>\n",
              "      <td>1008</td>\n",
              "      <td>1008</td>\n",
              "      <td>1008</td>\n",
              "      <td>1009</td>\n",
              "    </tr>\n",
              "    <tr>\n",
              "      <th>FL</th>\n",
              "      <td>918</td>\n",
              "      <td>918</td>\n",
              "      <td>918</td>\n",
              "      <td>920</td>\n",
              "    </tr>\n",
              "    <tr>\n",
              "      <th>MN</th>\n",
              "      <td>903</td>\n",
              "      <td>903</td>\n",
              "      <td>903</td>\n",
              "      <td>906</td>\n",
              "    </tr>\n",
              "    <tr>\n",
              "      <th>WI</th>\n",
              "      <td>777</td>\n",
              "      <td>777</td>\n",
              "      <td>777</td>\n",
              "      <td>773</td>\n",
              "    </tr>\n",
              "    <tr>\n",
              "      <th>OK</th>\n",
              "      <td>743</td>\n",
              "      <td>743</td>\n",
              "      <td>743</td>\n",
              "      <td>733</td>\n",
              "    </tr>\n",
              "    <tr>\n",
              "      <th>NC</th>\n",
              "      <td>739</td>\n",
              "      <td>739</td>\n",
              "      <td>739</td>\n",
              "      <td>739</td>\n",
              "    </tr>\n",
              "    <tr>\n",
              "      <th>MI</th>\n",
              "      <td>692</td>\n",
              "      <td>692</td>\n",
              "      <td>692</td>\n",
              "      <td>692</td>\n",
              "    </tr>\n",
              "    <tr>\n",
              "      <th>IN</th>\n",
              "      <td>680</td>\n",
              "      <td>679</td>\n",
              "      <td>680</td>\n",
              "      <td>682</td>\n",
              "    </tr>\n",
              "    <tr>\n",
              "      <th>KS</th>\n",
              "      <td>672</td>\n",
              "      <td>671</td>\n",
              "      <td>672</td>\n",
              "      <td>671</td>\n",
              "    </tr>\n",
              "    <tr>\n",
              "      <th>GA</th>\n",
              "      <td>627</td>\n",
              "      <td>625</td>\n",
              "      <td>627</td>\n",
              "      <td>626</td>\n",
              "    </tr>\n",
              "    <tr>\n",
              "      <th>WA</th>\n",
              "      <td>627</td>\n",
              "      <td>627</td>\n",
              "      <td>627</td>\n",
              "      <td>628</td>\n",
              "    </tr>\n",
              "    <tr>\n",
              "      <th>VA</th>\n",
              "      <td>593</td>\n",
              "      <td>593</td>\n",
              "      <td>593</td>\n",
              "      <td>591</td>\n",
              "    </tr>\n",
              "    <tr>\n",
              "      <th>AL</th>\n",
              "      <td>585</td>\n",
              "      <td>585</td>\n",
              "      <td>585</td>\n",
              "      <td>578</td>\n",
              "    </tr>\n",
              "    <tr>\n",
              "      <th>NE</th>\n",
              "      <td>580</td>\n",
              "      <td>580</td>\n",
              "      <td>580</td>\n",
              "      <td>580</td>\n",
              "    </tr>\n",
              "    <tr>\n",
              "      <th>NJ</th>\n",
              "      <td>545</td>\n",
              "      <td>545</td>\n",
              "      <td>545</td>\n",
              "      <td>545</td>\n",
              "    </tr>\n",
              "    <tr>\n",
              "      <th>AR</th>\n",
              "      <td>541</td>\n",
              "      <td>541</td>\n",
              "      <td>541</td>\n",
              "      <td>541</td>\n",
              "    </tr>\n",
              "    <tr>\n",
              "      <th>KY</th>\n",
              "      <td>540</td>\n",
              "      <td>539</td>\n",
              "      <td>540</td>\n",
              "      <td>525</td>\n",
              "    </tr>\n",
              "    <tr>\n",
              "      <th>MD</th>\n",
              "      <td>518</td>\n",
              "      <td>518</td>\n",
              "      <td>518</td>\n",
              "      <td>518</td>\n",
              "    </tr>\n",
              "    <tr>\n",
              "      <th>LA</th>\n",
              "      <td>474</td>\n",
              "      <td>474</td>\n",
              "      <td>474</td>\n",
              "      <td>473</td>\n",
              "    </tr>\n",
              "    <tr>\n",
              "      <th>CO</th>\n",
              "      <td>458</td>\n",
              "      <td>458</td>\n",
              "      <td>458</td>\n",
              "      <td>458</td>\n",
              "    </tr>\n",
              "    <tr>\n",
              "      <th>AZ</th>\n",
              "      <td>451</td>\n",
              "      <td>451</td>\n",
              "      <td>451</td>\n",
              "      <td>451</td>\n",
              "    </tr>\n",
              "    <tr>\n",
              "      <th>NM</th>\n",
              "      <td>443</td>\n",
              "      <td>443</td>\n",
              "      <td>443</td>\n",
              "      <td>443</td>\n",
              "    </tr>\n",
              "    <tr>\n",
              "      <th>TN</th>\n",
              "      <td>430</td>\n",
              "      <td>429</td>\n",
              "      <td>430</td>\n",
              "      <td>429</td>\n",
              "    </tr>\n",
              "    <tr>\n",
              "      <th>WV</th>\n",
              "      <td>405</td>\n",
              "      <td>405</td>\n",
              "      <td>405</td>\n",
              "      <td>401</td>\n",
              "    </tr>\n",
              "    <tr>\n",
              "      <th>ND</th>\n",
              "      <td>401</td>\n",
              "      <td>401</td>\n",
              "      <td>401</td>\n",
              "      <td>401</td>\n",
              "    </tr>\n",
              "    <tr>\n",
              "      <th>SC</th>\n",
              "      <td>396</td>\n",
              "      <td>396</td>\n",
              "      <td>396</td>\n",
              "      <td>395</td>\n",
              "    </tr>\n",
              "    <tr>\n",
              "      <th>SD</th>\n",
              "      <td>391</td>\n",
              "      <td>391</td>\n",
              "      <td>391</td>\n",
              "      <td>390</td>\n",
              "    </tr>\n",
              "    <tr>\n",
              "      <th>OR</th>\n",
              "      <td>377</td>\n",
              "      <td>377</td>\n",
              "      <td>377</td>\n",
              "      <td>377</td>\n",
              "    </tr>\n",
              "    <tr>\n",
              "      <th>MT</th>\n",
              "      <td>365</td>\n",
              "      <td>364</td>\n",
              "      <td>365</td>\n",
              "      <td>365</td>\n",
              "    </tr>\n",
              "    <tr>\n",
              "      <th>MS</th>\n",
              "      <td>362</td>\n",
              "      <td>362</td>\n",
              "      <td>362</td>\n",
              "      <td>362</td>\n",
              "    </tr>\n",
              "    <tr>\n",
              "      <th>AK</th>\n",
              "      <td>355</td>\n",
              "      <td>355</td>\n",
              "      <td>355</td>\n",
              "      <td>355</td>\n",
              "    </tr>\n",
              "    <tr>\n",
              "      <th>UT</th>\n",
              "      <td>325</td>\n",
              "      <td>325</td>\n",
              "      <td>325</td>\n",
              "      <td>326</td>\n",
              "    </tr>\n",
              "    <tr>\n",
              "      <th>MA</th>\n",
              "      <td>246</td>\n",
              "      <td>246</td>\n",
              "      <td>246</td>\n",
              "      <td>244</td>\n",
              "    </tr>\n",
              "    <tr>\n",
              "      <th>ID</th>\n",
              "      <td>227</td>\n",
              "      <td>227</td>\n",
              "      <td>227</td>\n",
              "      <td>227</td>\n",
              "    </tr>\n",
              "    <tr>\n",
              "      <th>WY</th>\n",
              "      <td>204</td>\n",
              "      <td>204</td>\n",
              "      <td>204</td>\n",
              "      <td>203</td>\n",
              "    </tr>\n",
              "    <tr>\n",
              "      <th>HI</th>\n",
              "      <td>151</td>\n",
              "      <td>152</td>\n",
              "      <td>151</td>\n",
              "      <td>151</td>\n",
              "    </tr>\n",
              "    <tr>\n",
              "      <th>CT</th>\n",
              "      <td>144</td>\n",
              "      <td>143</td>\n",
              "      <td>144</td>\n",
              "      <td>143</td>\n",
              "    </tr>\n",
              "    <tr>\n",
              "      <th>NV</th>\n",
              "      <td>131</td>\n",
              "      <td>131</td>\n",
              "      <td>131</td>\n",
              "      <td>129</td>\n",
              "    </tr>\n",
              "    <tr>\n",
              "      <th>ME</th>\n",
              "      <td>130</td>\n",
              "      <td>130</td>\n",
              "      <td>130</td>\n",
              "      <td>131</td>\n",
              "    </tr>\n",
              "    <tr>\n",
              "      <th>VT</th>\n",
              "      <td>121</td>\n",
              "      <td>121</td>\n",
              "      <td>121</td>\n",
              "      <td>119</td>\n",
              "    </tr>\n",
              "    <tr>\n",
              "      <th>NH</th>\n",
              "      <td>97</td>\n",
              "      <td>97</td>\n",
              "      <td>97</td>\n",
              "      <td>96</td>\n",
              "    </tr>\n",
              "    <tr>\n",
              "      <th>DE</th>\n",
              "      <td>77</td>\n",
              "      <td>77</td>\n",
              "      <td>77</td>\n",
              "      <td>76</td>\n",
              "    </tr>\n",
              "    <tr>\n",
              "      <th>RI</th>\n",
              "      <td>36</td>\n",
              "      <td>36</td>\n",
              "      <td>36</td>\n",
              "      <td>34</td>\n",
              "    </tr>\n",
              "    <tr>\n",
              "      <th>DC</th>\n",
              "      <td>1</td>\n",
              "      <td>1</td>\n",
              "      <td>1</td>\n",
              "      <td>1</td>\n",
              "    </tr>\n",
              "  </tbody>\n",
              "</table>\n",
              "</div>\n",
              "      <button class=\"colab-df-convert\" onclick=\"convertToInteractive('df-c1764172-050b-4387-ac62-9649f2308251')\"\n",
              "              title=\"Convert this dataframe to an interactive table.\"\n",
              "              style=\"display:none;\">\n",
              "        \n",
              "  <svg xmlns=\"http://www.w3.org/2000/svg\" height=\"24px\"viewBox=\"0 0 24 24\"\n",
              "       width=\"24px\">\n",
              "    <path d=\"M0 0h24v24H0V0z\" fill=\"none\"/>\n",
              "    <path d=\"M18.56 5.44l.94 2.06.94-2.06 2.06-.94-2.06-.94-.94-2.06-.94 2.06-2.06.94zm-11 1L8.5 8.5l.94-2.06 2.06-.94-2.06-.94L8.5 2.5l-.94 2.06-2.06.94zm10 10l.94 2.06.94-2.06 2.06-.94-2.06-.94-.94-2.06-.94 2.06-2.06.94z\"/><path d=\"M17.41 7.96l-1.37-1.37c-.4-.4-.92-.59-1.43-.59-.52 0-1.04.2-1.43.59L10.3 9.45l-7.72 7.72c-.78.78-.78 2.05 0 2.83L4 21.41c.39.39.9.59 1.41.59.51 0 1.02-.2 1.41-.59l7.78-7.78 2.81-2.81c.8-.78.8-2.07 0-2.86zM5.41 20L4 18.59l7.72-7.72 1.47 1.35L5.41 20z\"/>\n",
              "  </svg>\n",
              "      </button>\n",
              "      \n",
              "  <style>\n",
              "    .colab-df-container {\n",
              "      display:flex;\n",
              "      flex-wrap:wrap;\n",
              "      gap: 12px;\n",
              "    }\n",
              "\n",
              "    .colab-df-convert {\n",
              "      background-color: #E8F0FE;\n",
              "      border: none;\n",
              "      border-radius: 50%;\n",
              "      cursor: pointer;\n",
              "      display: none;\n",
              "      fill: #1967D2;\n",
              "      height: 32px;\n",
              "      padding: 0 0 0 0;\n",
              "      width: 32px;\n",
              "    }\n",
              "\n",
              "    .colab-df-convert:hover {\n",
              "      background-color: #E2EBFA;\n",
              "      box-shadow: 0px 1px 2px rgba(60, 64, 67, 0.3), 0px 1px 3px 1px rgba(60, 64, 67, 0.15);\n",
              "      fill: #174EA6;\n",
              "    }\n",
              "\n",
              "    [theme=dark] .colab-df-convert {\n",
              "      background-color: #3B4455;\n",
              "      fill: #D2E3FC;\n",
              "    }\n",
              "\n",
              "    [theme=dark] .colab-df-convert:hover {\n",
              "      background-color: #434B5C;\n",
              "      box-shadow: 0px 1px 3px 1px rgba(0, 0, 0, 0.15);\n",
              "      filter: drop-shadow(0px 1px 2px rgba(0, 0, 0, 0.3));\n",
              "      fill: #FFFFFF;\n",
              "    }\n",
              "  </style>\n",
              "\n",
              "      <script>\n",
              "        const buttonEl =\n",
              "          document.querySelector('#df-c1764172-050b-4387-ac62-9649f2308251 button.colab-df-convert');\n",
              "        buttonEl.style.display =\n",
              "          google.colab.kernel.accessAllowed ? 'block' : 'none';\n",
              "\n",
              "        async function convertToInteractive(key) {\n",
              "          const element = document.querySelector('#df-c1764172-050b-4387-ac62-9649f2308251');\n",
              "          const dataTable =\n",
              "            await google.colab.kernel.invokeFunction('convertToInteractive',\n",
              "                                                     [key], {});\n",
              "          if (!dataTable) return;\n",
              "\n",
              "          const docLinkHtml = 'Like what you see? Visit the ' +\n",
              "            '<a target=\"_blank\" href=https://colab.research.google.com/notebooks/data_table.ipynb>data table notebook</a>'\n",
              "            + ' to learn more about interactive tables.';\n",
              "          element.innerHTML = '';\n",
              "          dataTable['output_type'] = 'display_data';\n",
              "          await google.colab.output.renderOutput(dataTable, element);\n",
              "          const docLink = document.createElement('div');\n",
              "          docLink.innerHTML = docLinkHtml;\n",
              "          element.appendChild(docLink);\n",
              "        }\n",
              "      </script>\n",
              "    </div>\n",
              "  </div>\n",
              "  "
            ]
          },
          "metadata": {},
          "execution_count": 1912
        }
      ]
    },
    {
      "cell_type": "code",
      "source": [
        "#  Cantidad de Filas\n",
        "print('1. Educación Ciudades:',len(educacion_ciudades.index))\n",
        "print('2. Ingreso Ciudades:',len(ingreso_ciudades.index)) \n",
        "print('3. Pobreza ciudades:',len(pobreza_ciudades.index)) \n",
        "print('4. Policias Asesinados:',len(policia_asesinatos.index))\n",
        "print('5. Raza Ciudades:',len(raza_ciudades.index))"
      ],
      "metadata": {
        "colab": {
          "base_uri": "https://localhost:8080/"
        },
        "id": "SspbJFm1-K_u",
        "outputId": "30c24642-a4e7-494b-c6e5-b973e24f01f8"
      },
      "execution_count": 1913,
      "outputs": [
        {
          "output_type": "stream",
          "name": "stdout",
          "text": [
            "1. Educación Ciudades: 29329\n",
            "2. Ingreso Ciudades: 29322\n",
            "3. Pobreza ciudades: 29329\n",
            "4. Policias Asesinados: 2535\n",
            "5. Raza Ciudades: 29268\n"
          ]
        }
      ]
    },
    {
      "cell_type": "code",
      "source": [
        "#  Valores Nulos\n",
        "print('1. Valores Nulos Educación Ciudades: ',educacion_ciudades.isnull().values.sum())\n",
        "print('2. Valores Nulos Ingreso Ciudades:',ingreso_ciudades.isnull().values.sum()) \n",
        "print('3. Valores Nulos Pobreza ciudades:',pobreza_ciudades.isnull().values.sum()) \n",
        "print('4. Valores Nulos Policias Asesinados:',policia_asesinatos.isnull().values.sum())\n",
        "print('5. Valores Nulos Raza Ciudades:',raza_ciudades.isnull().values.sum())"
      ],
      "metadata": {
        "colab": {
          "base_uri": "https://localhost:8080/"
        },
        "id": "ShGesu2ERiAk",
        "outputId": "16a83607-1d4c-4cbc-9891-8adb79475a60"
      },
      "execution_count": 1914,
      "outputs": [
        {
          "output_type": "stream",
          "name": "stdout",
          "text": [
            "1. Valores Nulos Educación Ciudades:  0\n",
            "2. Valores Nulos Ingreso Ciudades: 51\n",
            "3. Valores Nulos Pobreza ciudades: 0\n",
            "4. Valores Nulos Policias Asesinados: 346\n",
            "5. Valores Nulos Raza Ciudades: 0\n"
          ]
        }
      ]
    },
    {
      "cell_type": "markdown",
      "source": [
        "## **7.2** Minería de datos y Data Marts"
      ],
      "metadata": {
        "id": "2YonWM_gCUA7"
      }
    },
    {
      "cell_type": "code",
      "source": [
        "# Remplazamos El promedio de Ingreso de Las ciudades que falten por el promedio de ingreso de todos los estados\n",
        "ingreso_ciudades['Median Income'] = pd.to_numeric(ingreso_ciudades['Median Income'],errors='coerce')\n",
        "ingreso_ciudades['Median Income'] = ingreso_ciudades['Median Income'].fillna(ingreso_ciudades['Median Income'].mean())"
      ],
      "metadata": {
        "id": "TuaIptc_-LCE"
      },
      "execution_count": 1915,
      "outputs": []
    },
    {
      "cell_type": "code",
      "source": [
        "#  Cantidad de Filas\n",
        "print('1. Educación Ciudades:',len(educacion_ciudades.index))\n",
        "print('2. Ingreso Ciudades:',len(ingreso_ciudades.index)) \n",
        "print('3. Pobreza ciudades:',len(pobreza_ciudades.index)) \n",
        "print('4. Policias Asesinados:',len(policia_asesinatos.index))\n",
        "print('5. Raza Ciudades:',len(raza_ciudades.index))"
      ],
      "metadata": {
        "colab": {
          "base_uri": "https://localhost:8080/"
        },
        "id": "afRJ9YycHjIr",
        "outputId": "c34e1617-0d1a-404f-d2c3-c6701439239e"
      },
      "execution_count": 1916,
      "outputs": [
        {
          "output_type": "stream",
          "name": "stdout",
          "text": [
            "1. Educación Ciudades: 29329\n",
            "2. Ingreso Ciudades: 29322\n",
            "3. Pobreza ciudades: 29329\n",
            "4. Policias Asesinados: 2535\n",
            "5. Raza Ciudades: 29268\n"
          ]
        }
      ]
    },
    {
      "cell_type": "code",
      "source": [
        "# Eliminar los valores nulos de las muertes de policias\n",
        "# Remplazamos valores nulos de edad de los policias por el promedio\n",
        "policia_asesinatos['age'] = pd.to_numeric(policia_asesinatos['age'],errors='coerce')\n",
        "policia_asesinatos['age'] = policia_asesinatos['age'].fillna(policia_asesinatos['age'].mean())"
      ],
      "metadata": {
        "id": "cmsXu7-LHjMk"
      },
      "execution_count": 1917,
      "outputs": []
    },
    {
      "cell_type": "code",
      "source": [
        "# Cambiemos los valores null de armed por undetermined ya que no se pudo determinar\n",
        "policia_asesinatos['armed'] = policia_asesinatos['armed'].fillna('undetermined')"
      ],
      "metadata": {
        "id": "gCaNa8flOgc9"
      },
      "execution_count": 1918,
      "outputs": []
    },
    {
      "cell_type": "code",
      "source": [
        "# Cambiemos los valores null de raza por undetermined ya que no se pudo determinar\n",
        "policia_asesinatos['race'] = policia_asesinatos['race'].fillna('undetermined')"
      ],
      "metadata": {
        "id": "xZ7xqg9iO5NE"
      },
      "execution_count": 1919,
      "outputs": []
    },
    {
      "cell_type": "code",
      "source": [
        "# Cambiemos los valores null de si huyo por undetermined ya que no se pudo determinar\n",
        "policia_asesinatos['flee'] = policia_asesinatos['flee'].fillna('undetermined')"
      ],
      "metadata": {
        "id": "i4TdKW1RPAVl"
      },
      "execution_count": 1920,
      "outputs": []
    },
    {
      "cell_type": "code",
      "source": [
        "#  Valores Nulos\n",
        "print('1. Valores Nulos Educación Ciudades: ',educacion_ciudades.isnull().values.sum())\n",
        "print('2. Valores Nulos Ingreso Ciudades:',ingreso_ciudades.isnull().values.sum()) \n",
        "print('3. Valores Nulos Pobreza ciudades:',pobreza_ciudades.isnull().values.sum()) \n",
        "print('4. Valores Nulos Policias Asesinados:',policia_asesinatos.isnull().values.sum())\n",
        "print('5. Valores Nulos Raza Ciudades:',raza_ciudades.isnull().values.sum())"
      ],
      "metadata": {
        "colab": {
          "base_uri": "https://localhost:8080/"
        },
        "id": "08dXYkYUQm1y",
        "outputId": "f4031c6d-661f-4c4e-d899-efcace349343"
      },
      "execution_count": 1921,
      "outputs": [
        {
          "output_type": "stream",
          "name": "stdout",
          "text": [
            "1. Valores Nulos Educación Ciudades:  0\n",
            "2. Valores Nulos Ingreso Ciudades: 0\n",
            "3. Valores Nulos Pobreza ciudades: 0\n",
            "4. Valores Nulos Policias Asesinados: 0\n",
            "5. Valores Nulos Raza Ciudades: 0\n"
          ]
        }
      ]
    },
    {
      "cell_type": "code",
      "source": [
        "# Transformar Raza\n",
        "def race_transformation(race):\n",
        "  if race == 'A':\n",
        "    return 'ASIAN'\n",
        "  elif race == 'W':\n",
        "    return 'WHITE'\n",
        "  elif race =='B':\n",
        "    return 'BLACK'\n",
        "  elif race == 'N':\n",
        "    return 'OTRO'\n",
        "  elif race == 'undetermined':\n",
        "    return 'undetermined'\n",
        "  elif race == 'O':\n",
        "    return 'NATIVE'\n",
        "  elif race == 'H':\n",
        "    return 'HISPANIC'"
      ],
      "metadata": {
        "id": "Ap8_vqU_2pn4"
      },
      "execution_count": 1922,
      "outputs": []
    },
    {
      "cell_type": "code",
      "source": [
        "# Transformando razas\n",
        "policia_asesinatos['race'] = policia_asesinatos['race'].apply(race_transformation)\n",
        "\n",
        "# volviendo el porcentaje completad a flotante\n",
        "educacion_ciudades['percent_completed_hs'] = pd.to_numeric(educacion_ciudades['percent_completed_hs'], errors='coerce')\n",
        "\n",
        "# volviendo el porcentaje pobreza a flotante\n",
        "pobreza_ciudades['povery_rate'] = pd.to_numeric(pobreza_ciudades['poverty_rate'], errors='coerce')\n",
        "\n",
        "# Volviendo el procentaje de compartir para todas las razas flotantes.\n",
        "raza_ciudades['share_white'] = pd.to_numeric(raza_ciudades['share_white'], errors='coerce')\n",
        "raza_ciudades['share_black'] = pd.to_numeric(raza_ciudades['share_black'], errors='coerce')\n",
        "raza_ciudades['share_native_american'] = pd.to_numeric(raza_ciudades['share_native_american'], errors='coerce')\n",
        "raza_ciudades['share_asian'] = pd.to_numeric(raza_ciudades['share_asian'], errors='coerce')\n",
        "raza_ciudades['share_hispanic'] = pd.to_numeric(raza_ciudades['share_hispanic'], errors='coerce')"
      ],
      "metadata": {
        "id": "1NixDVDA2ro3"
      },
      "execution_count": 1923,
      "outputs": []
    },
    {
      "cell_type": "code",
      "source": [
        "# Agrupando por estado y promedio\n",
        "educacion_agrupada = educacion_ciudades.copy()\n",
        "educacion_agrupada = educacion_agrupada.drop(columns=['City'])\n",
        "educacion_agrupada = educacion_agrupada.groupby('Geographic Area').mean()\n",
        "educacion_agrupada.reset_index(inplace=True)\n",
        "educacion_agrupada.columns = ['state','hs_mean']\n",
        "educacion_agrupada = educacion_agrupada.sort_values('hs_mean',ascending=False)\n",
        "\n",
        "# Columna de control\n",
        "policia_asesinatos['conteo'] = 1"
      ],
      "metadata": {
        "id": "WTktUFkB6NfT"
      },
      "execution_count": 1924,
      "outputs": []
    },
    {
      "cell_type": "code",
      "source": [
        "# Agrupando por estado y promedio de pobreza\n",
        "raza_agrupada = raza_ciudades.copy()\n",
        "raza_agrupada = raza_agrupada.drop(columns=['City'])\n",
        "raza_agrupada = raza_agrupada.groupby('Geographic area').mean()\n",
        "raza_agrupada.reset_index(inplace=True)\n",
        "raza_agrupada.columns = ['state','white','black','native','asian','hispanic']\n",
        "raza_agrupada = raza_agrupada.sort_values('white',ascending=False)"
      ],
      "metadata": {
        "id": "6vw7SwBtQgZg"
      },
      "execution_count": 1925,
      "outputs": []
    },
    {
      "cell_type": "code",
      "source": [
        "# Agrupando por estado e ingresos\n",
        "ingreso_agrupada = ingreso_ciudades.copy()\n",
        "ingreso_agrupada = ingreso_agrupada.drop(columns=['City'])\n",
        "ingreso_agrupada = ingreso_agrupada.groupby('Geographic Area').mean()\n",
        "ingreso_agrupada.reset_index(inplace=True)\n",
        "ingreso_agrupada.columns = ['state','median_income']\n",
        "ingreso_agrupada = ingreso_agrupada.sort_values('median_income',ascending=False)"
      ],
      "metadata": {
        "id": "wEk49reoWLDr"
      },
      "execution_count": 1926,
      "outputs": []
    },
    {
      "cell_type": "code",
      "source": [
        "# Top 5 Estados con mas homicidos\n",
        "top_cinco = policia_asesinatos['state'].value_counts()\n",
        "top_cinco = pd.DataFrame(top_cinco)\n",
        "top_cinco.reset_index(inplace=True)\n",
        "top_cinco.columns = ['state','conteo']\n",
        "top_cinco = top_cinco.iloc[0:5,]"
      ],
      "metadata": {
        "id": "E_oCjGr1Wwsp"
      },
      "execution_count": 1927,
      "outputs": []
    },
    {
      "cell_type": "code",
      "source": [
        "# SELECCION DE MUERTES POR ESTADO\n",
        "ca = policia_asesinatos[policia_asesinatos['state']=='CA']\n",
        "tx = policia_asesinatos[policia_asesinatos['state']=='TX']\n",
        "fl = policia_asesinatos[policia_asesinatos['state']=='FL']\n",
        "az = policia_asesinatos[policia_asesinatos['state']=='AZ']\n",
        "oh = policia_asesinatos[policia_asesinatos['state']=='OH']"
      ],
      "metadata": {
        "id": "P58bhLgAEhFq"
      },
      "execution_count": 1928,
      "outputs": []
    },
    {
      "cell_type": "code",
      "source": [
        "# Evolucion de Homicidio por Estado\n",
        "tx['date']= pd.to_datetime(tx['date'])\n",
        "tx = tx.sort_values(by=\"date\")\n",
        "tx_grouped = tx.copy()\n",
        "tx_grouped = tx[['date','conteo']]\n",
        "tx_grouped['acumulado'] = tx_grouped['conteo'].cumsum()\n",
        "\n",
        "# Evolucion de Homicidio por Estado\n",
        "fl['date']= pd.to_datetime(fl['date'])\n",
        "fl = fl.sort_values(by=\"date\")\n",
        "fl_grouped = fl.copy()\n",
        "fl_grouped = fl[['date','conteo']]\n",
        "fl_grouped['acumulado'] = fl_grouped['conteo'].cumsum()\n",
        "\n",
        "# Evolucion de Homicidio por Estado\n",
        "az['date']= pd.to_datetime(az['date'])\n",
        "az = az.sort_values(by=\"date\")\n",
        "az_grouped = az.copy()\n",
        "az_grouped = az[['date','conteo']]\n",
        "az_grouped['acumulado'] = az_grouped['conteo'].cumsum()\n",
        "\n",
        "# Evolucion de Homicidio por Estado\n",
        "oh['date']= pd.to_datetime(oh['date'])\n",
        "oh = oh.sort_values(by=\"date\")\n",
        "oh_grouped = oh.copy()\n",
        "oh_grouped = oh[['date','conteo']]\n",
        "oh_grouped['acumulado'] = oh_grouped['conteo'].cumsum()\n",
        "\n",
        "# Evolucion de Homicidio por Estado\n",
        "ca['date']= pd.to_datetime(ca['date'])\n",
        "ca = ca.sort_values(by=\"date\")\n",
        "ca_grouped = ca.copy()\n",
        "ca_grouped = ca[['date','conteo']]\n",
        "ca_grouped['acumulado'] = ca_grouped['conteo'].cumsum()"
      ],
      "metadata": {
        "id": "a2OBmHkaJS7c"
      },
      "execution_count": 1929,
      "outputs": []
    },
    {
      "cell_type": "markdown",
      "source": [
        "\n",
        "# **Punto A.** \n",
        "Análisis descriptivo de las variables **manner_of_death** y **armed** utilizandocaracterísticas sociodemográficas (**age**, **gender**, **race**, etc)."
      ],
      "metadata": {
        "id": "3UUYpIGh7tQC"
      }
    },
    {
      "cell_type": "markdown",
      "source": [
        "Variables sociodemográficas:\n",
        "\n",
        "¿Qué características sociodemográficas?\n",
        "Características sociodemográficas: Son el conjunto de características biológicas, socioeconomicoculturales que están presentes en la población sujeta a estudio, tomando aquellas que puedan ser medibles. modalidad en los diversos medios donde se desenvuelva el sujeto.\n",
        "\n",
        "referencias: https://sisbib.unmsm.edu.pe/bibvirtualdata/tesis/salud/Rabines_J_A/CAP%C3%8DTULO1-introduccion.pdf"
      ],
      "metadata": {
        "id": "DpjaW96GuW6N"
      }
    },
    {
      "cell_type": "code",
      "source": [
        "# Conteo de Formas de Morir\n",
        "sns.countplot(data=policia_asesinatos, x='manner_of_death', hue='manner_of_death',palette='magma')\n",
        "plt.title('MANERAS DE MORIR DE LOS POLICIAS')\n",
        "plt.xlabel('Forma de Morir')\n",
        "plt.ylabel('Conteo')\n",
        "plt.grid()\n",
        "plt.show()"
      ],
      "metadata": {
        "colab": {
          "base_uri": "https://localhost:8080/",
          "height": 295
        },
        "id": "-cnMsO10x-NW",
        "outputId": "92caa460-a4ba-406e-c20c-9d685e005364"
      },
      "execution_count": 1930,
      "outputs": [
        {
          "output_type": "display_data",
          "data": {
            "text/plain": [
              "<Figure size 432x288 with 1 Axes>"
            ],
            "image/png": "[encoded data removed]"
          },
          "metadata": {
            "needs_background": "light"
          }
        }
      ]
    },
    {
      "cell_type": "markdown",
      "source": [
        "### **A.1:** Manner of Death"
      ],
      "metadata": {
        "id": "6Wjm0ht9z57t"
      }
    },
    {
      "cell_type": "code",
      "source": [
        "# Distribución de edades de policias muertos\n",
        "sns.histplot(data=policia_asesinatos, x='age', hue='manner_of_death')\n",
        "plt.title('DISTRIBUCIÓN GENERAL DE EDADES DE POLICIAS ASESINADOS')\n",
        "plt.show()"
      ],
      "metadata": {
        "colab": {
          "base_uri": "https://localhost:8080/",
          "height": 295
        },
        "id": "fETkWuFXvOi_",
        "outputId": "13159208-6e11-4dc1-9165-b84149bd1501"
      },
      "execution_count": 1931,
      "outputs": [
        {
          "output_type": "display_data",
          "data": {
            "text/plain": [
              "<Figure size 432x288 with 1 Axes>"
            ],
            "image/png": "[encoded data removed]"
          },
          "metadata": {
            "needs_background": "light"
          }
        }
      ]
    },
    {
      "cell_type": "code",
      "source": [
        "# Distribución de generos de policias muertos\n",
        "plt.figure(figsize=(12,8))\n",
        "sns.countplot(data=policia_asesinatos, x='gender', hue='manner_of_death')\n",
        "plt.title('DISTRIBUCIÓN GENERAL DE GENEROS DE POLICIAS ASESINADOS')\n",
        "plt.show()"
      ],
      "metadata": {
        "colab": {
          "base_uri": "https://localhost:8080/",
          "height": 513
        },
        "id": "aMoY-CCS0pGA",
        "outputId": "f80b90ea-36ea-4673-c5b0-c095411ff7cf"
      },
      "execution_count": 1932,
      "outputs": [
        {
          "output_type": "display_data",
          "data": {
            "text/plain": [
              "<Figure size 864x576 with 1 Axes>"
            ],
            "image/png": "[encoded data removed]"
          },
          "metadata": {
            "needs_background": "light"
          }
        }
      ]
    },
    {
      "cell_type": "code",
      "source": [
        "# Distribución de edades de policias muertos\n",
        "plt.figure(figsize=(12,8))\n",
        "sns.countplot(data=policia_asesinatos, x='race', hue='manner_of_death',palette='magma')\n",
        "plt.title('DISTRIBUCIÓN GENERAL DE RAZAS DE POLICIAS ASESINADOS')\n",
        "plt.show()"
      ],
      "metadata": {
        "colab": {
          "base_uri": "https://localhost:8080/",
          "height": 513
        },
        "id": "UHvfchKv1OHn",
        "outputId": "08e44bff-523d-4d39-8034-749d05620aca"
      },
      "execution_count": 1933,
      "outputs": [
        {
          "output_type": "display_data",
          "data": {
            "text/plain": [
              "<Figure size 864x576 with 1 Axes>"
            ],
            "image/png": "[encoded data removed]"
          },
          "metadata": {
            "needs_background": "light"
          }
        }
      ]
    },
    {
      "cell_type": "code",
      "source": [
        "# Distribución de edades de policias muertos\n",
        "plt.figure(figsize=(12,8))\n",
        "sns.countplot(data=policia_asesinatos, x='race',palette='magma')\n",
        "plt.title('DISTRIBUCIÓN GENERAL DE RAZAS DE POLICIAS ASESINADOS')\n",
        "plt.show()"
      ],
      "metadata": {
        "colab": {
          "base_uri": "https://localhost:8080/",
          "height": 513
        },
        "id": "1uTYpIr0mEMl",
        "outputId": "e6d5177a-5319-433c-f944-1ff06675ac8b"
      },
      "execution_count": 1934,
      "outputs": [
        {
          "output_type": "display_data",
          "data": {
            "text/plain": [
              "<Figure size 864x576 with 1 Axes>"
            ],
            "image/png": "[encoded data removed]"
          },
          "metadata": {
            "needs_background": "light"
          }
        }
      ]
    },
    {
      "cell_type": "code",
      "source": [
        "# Distribución de edades de policias muertos\n",
        "plt.figure(figsize=(18,8))\n",
        "sns.countplot(data=policia_asesinatos, x='state', hue='manner_of_death',palette='Set1')\n",
        "plt.title('ASESINATOS POR ESTADO')\n",
        "plt.xlabel('ESTADO')\n",
        "plt.ylabel('NÙMERO DE ASESINATOS')\n",
        "plt.legend(loc='upper right')\n",
        "plt.xticks(rotation=90)\n",
        "plt.show()"
      ],
      "metadata": {
        "colab": {
          "base_uri": "https://localhost:8080/",
          "height": 520
        },
        "id": "UeeMV0bD36cV",
        "outputId": "b8bb4d28-ef80-469f-feb3-883e1e400a70"
      },
      "execution_count": 1935,
      "outputs": [
        {
          "output_type": "display_data",
          "data": {
            "text/plain": [
              "<Figure size 1296x576 with 1 Axes>"
            ],
            "image/png": "[encoded data removed]"
          },
          "metadata": {
            "needs_background": "light"
          }
        }
      ]
    },
    {
      "cell_type": "markdown",
      "source": [
        "Los estados donde más ocurren homicidios de policias fueron:\n",
        "\n",
        "1. California\n",
        "2. Texas\n",
        "3. Florida\n",
        "4. Arizona\n",
        "5. Ohio"
      ],
      "metadata": {
        "id": "gR1fS9EVwF4E"
      }
    },
    {
      "cell_type": "markdown",
      "source": [
        "### **A.2:** Armed"
      ],
      "metadata": {
        "id": "0qQQIqddLTbI"
      }
    },
    {
      "cell_type": "code",
      "source": [
        "# Conteo de Formas de Morir\n",
        "plt.figure(figsize=(18,12))\n",
        "sns.countplot(data=policia_asesinatos, y='armed',palette='Set1',order= policia_asesinatos['armed'].value_counts().index)\n",
        "plt.title('COMO ESTABAN ARMADOS LOS AGENTES AL MOMENTO DE MORIR')\n",
        "plt.xlabel('CONTEO POR ARMAMENTO')\n",
        "plt.ylabel('ARMA')\n",
        "plt.grid()\n",
        "plt.show()"
      ],
      "metadata": {
        "colab": {
          "base_uri": "https://localhost:8080/",
          "height": 730
        },
        "id": "7Ai3l7coLWra",
        "outputId": "958efe52-222e-4d7a-ab54-dc0ec613579d"
      },
      "execution_count": 1936,
      "outputs": [
        {
          "output_type": "display_data",
          "data": {
            "text/plain": [
              "<Figure size 1296x864 with 1 Axes>"
            ],
            "image/png": "[encoded data removed]"
          },
          "metadata": {
            "needs_background": "light"
          }
        }
      ]
    },
    {
      "cell_type": "code",
      "source": [
        "# Conteo de Formas de Morir\n",
        "plt.figure(figsize=(22,6))\n",
        "sns.countplot(data=policia_asesinatos, x='armed',palette='Accent',order= policia_asesinatos['armed'].value_counts().index, hue='gender')\n",
        "plt.title('COMO ESTABAN ARMADOS LOS AGENTES AL MOMENTO DE MORIR POR GENERO')\n",
        "plt.xlabel('ARMA')\n",
        "plt.ylabel('CONTEO POR GENERO')\n",
        "plt.xticks(rotation=90)\n",
        "plt.legend(loc='upper right')\n",
        "plt.grid()\n",
        "plt.show()"
      ],
      "metadata": {
        "colab": {
          "base_uri": "https://localhost:8080/",
          "height": 555
        },
        "id": "yY3GYiFRLjCS",
        "outputId": "235150c5-061a-4ce5-82e0-ff734ae84f53"
      },
      "execution_count": 1937,
      "outputs": [
        {
          "output_type": "display_data",
          "data": {
            "text/plain": [
              "<Figure size 1584x432 with 1 Axes>"
            ],
            "image/png": "[encoded data removed]"
          },
          "metadata": {
            "needs_background": "light"
          }
        }
      ]
    },
    {
      "cell_type": "code",
      "source": [
        "# Conteo de Formas de Morir\n",
        "plt.figure(figsize=(22,6))\n",
        "sns.countplot(data=policia_asesinatos, x='armed',palette='Set2',order= policia_asesinatos['armed'].value_counts().index, hue='race')\n",
        "plt.title('COMO ESTABAN ARMADOS LOS AGENTES AL MOMENTO DE MORIR POR RAZA')\n",
        "plt.xlabel('ARMA')\n",
        "plt.ylabel('CONTEO POR GENERO')\n",
        "plt.xticks(rotation=90)\n",
        "plt.legend(loc='upper right')\n",
        "plt.grid()\n",
        "plt.show()"
      ],
      "metadata": {
        "colab": {
          "base_uri": "https://localhost:8080/",
          "height": 555
        },
        "id": "txFdhqDvLjFI",
        "outputId": "4fc74f85-0349-4fe2-f5b0-e882416ad2dd"
      },
      "execution_count": 1938,
      "outputs": [
        {
          "output_type": "display_data",
          "data": {
            "text/plain": [
              "<Figure size 1584x432 with 1 Axes>"
            ],
            "image/png": "[encoded data removed]"
          },
          "metadata": {
            "needs_background": "light"
          }
        }
      ]
    },
    {
      "cell_type": "markdown",
      "source": [
        "# **Punto B.** \n",
        "Evolución en el tiempo de las muertes por estado (Seleccione los 5 estados con másmuertes para facilitar la visualización)."
      ],
      "metadata": {
        "id": "FyZD2KFIR6FS"
      }
    },
    {
      "cell_type": "code",
      "source": [
        "# conteo de muertes\n",
        "total_muertes = sum(top_cinco['conteo'])\n",
        "plt.figure(figsize=(8,6))\n",
        "sns.barplot(data=top_cinco, y='state',x='conteo', hue='state')\n",
        "plt.title(f'TOP 5 DE ESTADOS CON MÁS MUERTES, SUMATORIA: {total_muertes}')\n",
        "plt.ylabel('ESTADO')\n",
        "plt.xlabel('CONTEO DE MUERTES')\n",
        "plt.grid()\n",
        "plt.show()"
      ],
      "metadata": {
        "colab": {
          "base_uri": "https://localhost:8080/",
          "height": 404
        },
        "id": "KisroLUEBdkC",
        "outputId": "0b4fe675-bfa0-4b11-86cd-8a077e81d238"
      },
      "execution_count": 1939,
      "outputs": [
        {
          "output_type": "display_data",
          "data": {
            "text/plain": [
              "<Figure size 576x432 with 1 Axes>"
            ],
            "image/png": "[encoded data removed]"
          },
          "metadata": {
            "needs_background": "light"
          }
        }
      ]
    },
    {
      "cell_type": "code",
      "source": [
        "# Acumulado de muertes  CALIFORNIA\n",
        "sns.lineplot(data=ca_grouped, x='date',y='acumulado', color='blue')\n",
        "plt.title('EVOLUCIÓN DE LAS MUERTES EN EL ESTADO DE CALIFORNIA')\n",
        "plt.ylabel('MUERTES')\n",
        "plt.xlabel('FECHA')\n",
        "plt.grid()\n",
        "plt.xticks(rotation=90)\n",
        "plt.show()"
      ],
      "metadata": {
        "colab": {
          "base_uri": "https://localhost:8080/",
          "height": 327
        },
        "id": "1ViJEObfHph8",
        "outputId": "c6977b28-9a12-4ea5-ef44-04d0d381469b"
      },
      "execution_count": 1940,
      "outputs": [
        {
          "output_type": "display_data",
          "data": {
            "text/plain": [
              "<Figure size 432x288 with 1 Axes>"
            ],
            "image/png": "[encoded data removed]"
          },
          "metadata": {
            "needs_background": "light"
          }
        }
      ]
    },
    {
      "cell_type": "code",
      "source": [
        "# Acumulado de muertes  TEXAS\n",
        "sns.lineplot(data=tx_grouped, x='date',y='acumulado', color='red')\n",
        "plt.title('EVOLUCIÓN DE LAS MUERTES EN EL ESTADO DE TEXAS')\n",
        "plt.ylabel('MUERTES')\n",
        "plt.xlabel('FECHA')\n",
        "plt.grid()\n",
        "plt.xticks(rotation=90)\n",
        "plt.show()"
      ],
      "metadata": {
        "colab": {
          "base_uri": "https://localhost:8080/",
          "height": 327
        },
        "id": "GIRXTBiNCOgf",
        "outputId": "8f36f22c-f7b1-4b5d-b80b-cfca5ef2d0f4"
      },
      "execution_count": 1941,
      "outputs": [
        {
          "output_type": "display_data",
          "data": {
            "text/plain": [
              "<Figure size 432x288 with 1 Axes>"
            ],
            "image/png": "[encoded data removed]"
          },
          "metadata": {
            "needs_background": "light"
          }
        }
      ]
    },
    {
      "cell_type": "code",
      "source": [
        "# Acumulado de muertes  FLORIDA\n",
        "sns.lineplot(data=fl_grouped, x='date',y='acumulado', color='purple')\n",
        "plt.title('EVOLUCIÓN DE LAS MUERTES EN EL ESTADO DE FLORIDA')\n",
        "plt.ylabel('MUERTES')\n",
        "plt.xlabel('FECHA')\n",
        "plt.grid()\n",
        "plt.xticks(rotation=90)\n",
        "plt.show()"
      ],
      "metadata": {
        "colab": {
          "base_uri": "https://localhost:8080/",
          "height": 327
        },
        "id": "-JdZHCFYIjiI",
        "outputId": "6b574de7-b5db-47db-886c-109cc5afb0d7"
      },
      "execution_count": 1942,
      "outputs": [
        {
          "output_type": "display_data",
          "data": {
            "text/plain": [
              "<Figure size 432x288 with 1 Axes>"
            ],
            "image/png": "[encoded data removed]"
          },
          "metadata": {
            "needs_background": "light"
          }
        }
      ]
    },
    {
      "cell_type": "code",
      "source": [
        "# Acumulado de muertes  ARIZONA\n",
        "sns.lineplot(data=az_grouped, x='date',y='acumulado', color='orange')\n",
        "plt.title('EVOLUCIÓN DE LAS MUERTES EN EL ESTADO DE ARIZONA')\n",
        "plt.ylabel('MUERTES')\n",
        "plt.xlabel('FECHA')\n",
        "plt.grid()\n",
        "plt.xticks(rotation=90)\n",
        "plt.show()"
      ],
      "metadata": {
        "colab": {
          "base_uri": "https://localhost:8080/",
          "height": 327
        },
        "id": "OBRBRKyqIkPm",
        "outputId": "3a0f8774-409d-4351-ad1b-80c4211013d2"
      },
      "execution_count": 1943,
      "outputs": [
        {
          "output_type": "display_data",
          "data": {
            "text/plain": [
              "<Figure size 432x288 with 1 Axes>"
            ],
            "image/png": "[encoded data removed]"
          },
          "metadata": {
            "needs_background": "light"
          }
        }
      ]
    },
    {
      "cell_type": "code",
      "source": [
        "# Acumulado de muertes  OHIO\n",
        "sns.lineplot(data=oh_grouped, x='date',y='acumulado', color='magenta')\n",
        "plt.title('EVOLUCIÓN DE LAS MUERTES EN EL ESTADO DE OHIO')\n",
        "plt.ylabel('MUERTES')\n",
        "plt.xlabel('FECHA')\n",
        "plt.grid()\n",
        "plt.xticks(rotation=90)\n",
        "plt.show()"
      ],
      "metadata": {
        "colab": {
          "base_uri": "https://localhost:8080/",
          "height": 327
        },
        "id": "ey4ym-JuIkWz",
        "outputId": "57f22656-74bb-4ea8-b01d-37c543af4045"
      },
      "execution_count": 1944,
      "outputs": [
        {
          "output_type": "display_data",
          "data": {
            "text/plain": [
              "<Figure size 432x288 with 1 Axes>"
            ],
            "image/png": "[encoded data removed]"
          },
          "metadata": {
            "needs_background": "light"
          }
        }
      ]
    },
    {
      "cell_type": "markdown",
      "source": [
        "# **Punto C.** \n",
        "Realice un análisis del ingreso, escolaridad, raza y pobreza para cada uno de los 5estados"
      ],
      "metadata": {
        "id": "1Yux8i4tSLsF"
      }
    },
    {
      "cell_type": "markdown",
      "source": [
        "#### **C.1 Educación**"
      ],
      "metadata": {
        "id": "kseZOfwpXSa1"
      }
    },
    {
      "cell_type": "code",
      "source": [
        "# Educaciòn por Estado\n",
        "plt.figure(figsize=(12,10))\n",
        "sns.barplot( x='state', y='hs_mean',data=educacion_agrupada,linewidth=0.8, palette='crest')\n",
        "plt.title('PORCENTAJE DE HORAS COMPLETADAS DE EDUCACIÓN POR ESTADO',size=15)\n",
        "plt.ylabel('PORCENTAJE %')\n",
        "plt.xlabel('ESTADO')\n",
        "plt.xticks(rotation=90)\n",
        "plt.show()"
      ],
      "metadata": {
        "id": "cgTH0LFN3Gge",
        "colab": {
          "base_uri": "https://localhost:8080/",
          "height": 633
        },
        "outputId": "0c4047de-5385-4049-90b4-0a049f33dda5"
      },
      "execution_count": 1945,
      "outputs": [
        {
          "output_type": "display_data",
          "data": {
            "text/plain": [
              "<Figure size 864x720 with 1 Axes>"
            ],
            "image/png": "[encoded data removed]"
          },
          "metadata": {
            "needs_background": "light"
          }
        }
      ]
    },
    {
      "cell_type": "markdown",
      "source": [
        "Los Estados de **California**, **Ariozona**,**Texas** (el último) y **Florida* se encuentran dentro de los  20 Estados que peor porcentaje de promedio Horas completadas en educación, por lo que quizas haya una correlación entre el nivel de educación y la violencia dentro de los estados. El único estado que esta dentro de los mejores 25 estados en educación sería el estado de **Ohio** (puesto 23)"
      ],
      "metadata": {
        "id": "XLwUaH-YPZSJ"
      }
    },
    {
      "cell_type": "markdown",
      "source": [
        "#### **C.2 Pobreza**"
      ],
      "metadata": {
        "id": "c_Tl1XZOXa9E"
      }
    },
    {
      "cell_type": "code",
      "source": [
        "# Pobreza\n",
        "plt.figure(figsize=(12,10))\n",
        "sns.barplot( x='state', y='poverty_rate_mean', data=pobreza_agrupada,linewidth=0.3, palette='magma')\n",
        "plt.title('PORCENTAJE DE POBREZA POR ESTADO')\n",
        "plt.ylabel('PORCENTAJE %')\n",
        "plt.xlabel('ESTADO')\n",
        "plt.xticks(rotation=90)\n",
        "plt.show()"
      ],
      "metadata": {
        "id": "UjBSElXW3Gi_",
        "colab": {
          "base_uri": "https://localhost:8080/",
          "height": 628
        },
        "outputId": "971a8604-4372-4329-8e69-0c69c99a2382"
      },
      "execution_count": 1946,
      "outputs": [
        {
          "output_type": "display_data",
          "data": {
            "text/plain": [
              "<Figure size 864x720 with 1 Axes>"
            ],
            "image/png": "[encoded data removed]"
          },
          "metadata": {
            "needs_background": "light"
          }
        }
      ]
    },
    {
      "cell_type": "markdown",
      "source": [
        "El Estado de Arizona es el **SEGUNDO ESTADO** con mayor porcentaj de de pobreza de EUA (más de 25%) lo que probablemente tenga una correlación muy alta en la cantidad de homicidios de policias.\n",
        "\n",
        "A nivel de Pobreza los Estados con mayor número de asesinatos de policias no se encuentran dentro del top  10 de estados de los peores estados. Sin embargo el estado de Texas se encuentra en la posición 13, el estado de Florida se encuentra en el lugar 20 y el de california 21. Si lo dividimos los 51 Estados, se encuentran dentro de la mitad de estados que mayor indice de Pobreza tienen lo que quizás tenga una correlación con respecto a los asesinatos.\n",
        "\n",
        "Nuevamente el estado de **OHIO** esta en la posición 28, por lo que es el mejor colocado en el nivel de pobreza (porcentaje más bajo de pobreza) "
      ],
      "metadata": {
        "id": "BqFogZFNPa5d"
      }
    },
    {
      "cell_type": "markdown",
      "source": [
        "#### **C.3 Raza**"
      ],
      "metadata": {
        "id": "AMnhqrZpXvM-"
      }
    },
    {
      "cell_type": "code",
      "source": [
        "# Raza por Ciudades\n",
        "plt.figure(figsize=(10,10))\n",
        "sns.barplot(data=raza_agrupada, y='state',x=raza_agrupada['white'], color='skyblue')\n",
        "plt.title('PORCENTAJE DE RAZA BLACA POR ESTADO')\n",
        "plt.xlabel('PORCENTAJE %')\n",
        "plt.ylabel('ESTADO')\n",
        "plt.xticks(rotation=90)\n",
        "plt.show()"
      ],
      "metadata": {
        "colab": {
          "base_uri": "https://localhost:8080/",
          "height": 630
        },
        "id": "u53IzcflPbMh",
        "outputId": "e4cff1bc-f714-4016-b636-37f58682d771"
      },
      "execution_count": 1947,
      "outputs": [
        {
          "output_type": "display_data",
          "data": {
            "text/plain": [
              "<Figure size 720x720 with 1 Axes>"
            ],
            "image/png": "[encoded data removed]"
          },
          "metadata": {
            "needs_background": "light"
          }
        }
      ]
    },
    {
      "cell_type": "code",
      "source": [
        "# Tomamos en consideracion la que comparte raza nativa\n",
        "raza_agrupada_nativa = raza_agrupada.sort_values('native',ascending=False)\n",
        "plt.figure(figsize=(10,10))\n",
        "sns.barplot(data=raza_agrupada_nativa, y='state',x=raza_agrupada['native'], color='darkred')\n",
        "plt.title('PORCENTAJE DE RAZA NATIVA POR ESTADO')\n",
        "plt.xlabel('PORCENTAJE %')\n",
        "plt.ylabel('ESTADO')\n",
        "plt.xticks(rotation=90)\n",
        "plt.show()"
      ],
      "metadata": {
        "colab": {
          "base_uri": "https://localhost:8080/",
          "height": 624
        },
        "id": "n1xX40ZITC70",
        "outputId": "79d0ce64-a98d-4646-b258-a58dbdf7f7cf"
      },
      "execution_count": 1948,
      "outputs": [
        {
          "output_type": "display_data",
          "data": {
            "text/plain": [
              "<Figure size 720x720 with 1 Axes>"
            ],
            "image/png": "[encoded data removed]"
          },
          "metadata": {
            "needs_background": "light"
          }
        }
      ]
    },
    {
      "cell_type": "markdown",
      "source": [
        "almenos 75% de la Población para los Estados de:\n",
        "1. California\n",
        "2. Texas\n",
        "3. Florida\n",
        "4. Ohio \n",
        "pertenecen a raza blanca\n",
        "\n",
        "Por lo que por este supuesto, la mayoría de los agentes podrían ser de esta entnia, y de ahí la cantidad de muertes de esta raza es la mayor.\n",
        "\n",
        "Sin embargo el estado de **Arizona** tiene menos de 60% de Raza Blanca.\n",
        "Haciendo e análisis exploratorio se deduce que el 30% de sus habitantes pertencen a raza nativa.\n"
      ],
      "metadata": {
        "id": "Qc1EJ3DdPbhv"
      }
    },
    {
      "cell_type": "markdown",
      "source": [
        "#### **C.4 Ingresos**"
      ],
      "metadata": {
        "id": "igi3Bcm8X0HL"
      }
    },
    {
      "cell_type": "code",
      "source": [
        "# Tomamos en consideracion la que comparte raza nativa\n",
        "raza_agrupada_nativa = raza_agrupada.sort_values('native',ascending=False)\n",
        "plt.figure(figsize=(10,10))\n",
        "sns.barplot(data=ingreso_agrupada, y='state',x=ingreso_agrupada['median_income'], color='green')\n",
        "plt.title('PORCENTAJE DE RAZA NATIVA POR ESTADO')\n",
        "plt.xlabel('PROMEDIO DE INGRESOS $')\n",
        "plt.ylabel('ESTADO')\n",
        "plt.xticks(rotation=90)\n",
        "plt.show()"
      ],
      "metadata": {
        "colab": {
          "base_uri": "https://localhost:8080/",
          "height": 643
        },
        "id": "xUUcizcaW3GZ",
        "outputId": "e8191e84-fbbc-4b9d-b627-1386343f7d45"
      },
      "execution_count": 1949,
      "outputs": [
        {
          "output_type": "display_data",
          "data": {
            "text/plain": [
              "<Figure size 720x720 with 1 Axes>"
            ],
            "image/png": "[encoded data removed]"
          },
          "metadata": {
            "needs_background": "light"
          }
        }
      ]
    },
    {
      "cell_type": "markdown",
      "source": [
        "Hay que decir que los siguientes estados se encuentran dentro de los 25 mejores estados:\n",
        "11. California\n",
        "23. Texas\n",
        "24. Ohio\n",
        "\n",
        "Florida se encuentra en la posición 26 lo que significa que es bastante aceptable esta justo en la linea divisoria\n",
        "\n",
        "Pero el Estado de Arizona se encuentra en la posición 39, por lo que es uno de los peores estados a nivel de ingresos."
      ],
      "metadata": {
        "id": "2FJMYhKIYOm9"
      }
    },
    {
      "cell_type": "markdown",
      "source": [
        "## **7.3 Conclusiones**\n",
        "\n",
        "**Hipotesis**\n",
        "\n",
        "**California**\n",
        "Probablemente la mayor cantidad de crimenes se realicen en California ya que es uno de los estados con mayor nivel de ingresos, pero que su ves tambíen tiene algún problema de pobreza, por lo que quizás esta población se vea tentada a cometer crimenes a los que más tienen.\n",
        "\n",
        "Estos **3** estados son Fronterizos\n",
        "1. California\n",
        "2. Arizona\n",
        "3. Texas\n",
        "\n",
        "Por lo cúal reciben inmigrantes de todas partes del mundo, por lo que quizás haya un poco más de situaciones policiacas que terminen en persecuciones.\n",
        "\n",
        "La Raza parece no tener un peso especifico, simplemente que debido a la que la mayoría de la población es blanca, por este motivo hay más muerte relacionadas.\n",
        "\n",
        "En el caso de Arizona parece tener un problema en el promedio de ingresos, es uno de los peores en el país, por lo que finalmente en algunos casos termine en casos de delincuencía.\n",
        "\n"
      ],
      "metadata": {
        "id": "eAj4dlP8Y5tk"
      }
    },
    {
      "cell_type": "markdown",
      "source": [
        "##**PUNTO 8**\n",
        "\n",
        "Utilizando el mismo conjunto de datos del punto 8, implemente un modelo de aprendizaje\n",
        "automático que dadas ciertas variables sociodemográficas y del tipo de asesinato policiaco,\n",
        "permita predecir la raza de la persona"
      ],
      "metadata": {
        "id": "XBXTUma_c5Cs"
      }
    },
    {
      "cell_type": "code",
      "source": [
        "# Copiando Dataframe\n",
        "datos = policia_asesinatos.copy()\n",
        "\n",
        "# Obteniendo solo variables sociodemograficas\n",
        "datos = datos[['manner_of_death', 'armed','age','gender','state','race']]\n",
        "\n",
        "# Creando variables Dummy\n",
        "datos = pd.get_dummies(datos,columns=['manner_of_death','armed','state','gender'])\n"
      ],
      "metadata": {
        "id": "ykf037GCcd3X"
      },
      "execution_count": 1950,
      "outputs": []
    },
    {
      "cell_type": "code",
      "source": [
        "# Transformar Raza a numerico\n",
        "def numerical_race(race):\n",
        "  if race == 'ASIAN':\n",
        "    return 0\n",
        "  elif race == 'WHITE':\n",
        "    return 1\n",
        "  elif race =='BLACK':\n",
        "    return 2\n",
        "  elif race == 'OTRO':\n",
        "    return 3\n",
        "  elif race == 'undetermined':\n",
        "    return 4\n",
        "  elif race == 'NATIVE':\n",
        "    return 5\n",
        "  elif race == 'HISPANIC':\n",
        "    return 6\n",
        "\n",
        "# Transformar Raza a numerico\n",
        "def back_to_race(race):\n",
        "  if race == 0:\n",
        "    return 'ASIAN'\n",
        "  elif race == 1:\n",
        "    return 'WHITE'\n",
        "  elif race ==2:\n",
        "    return 'BLACK'\n",
        "  elif race == 3:\n",
        "    return 'OTRO'\n",
        "  elif race == 4:\n",
        "    return 'undetermined'\n",
        "  elif race == 5:\n",
        "    return 'NATIVE'\n",
        "  elif race == 6:\n",
        "    return 'HISPANIC'"
      ],
      "metadata": {
        "id": "StlAoZffj-i2"
      },
      "execution_count": 1951,
      "outputs": []
    },
    {
      "cell_type": "code",
      "source": [
        "# Para la importancia de atributos\n",
        "datos['race'] = datos['race'].apply(numerical_race)"
      ],
      "metadata": {
        "id": "XxtM4t4ykuTY"
      },
      "execution_count": 1952,
      "outputs": []
    },
    {
      "cell_type": "markdown",
      "source": [
        "## **Importancia de Atributos**"
      ],
      "metadata": {
        "id": "EpDMVgzKiF-c"
      }
    },
    {
      "cell_type": "code",
      "source": [
        "#Separating Variables\n",
        "X = datos.drop(columns=['race'])\n",
        "y = datos['race']\n",
        "\n",
        "\n",
        "model = ExtraTreesClassifier(random_state=0)\n",
        "model.fit(X,y)\n",
        "feat_importances = pd.Series(model.feature_importances_, index=X.columns)\n",
        "plt.figure(figsize=(10,8))\n",
        "feat_importances.nlargest(20).plot(kind='barh',color='blue')\n",
        "plt.title('FEATURE IMPORTANCE')\n",
        "plt.show()\n"
      ],
      "metadata": {
        "colab": {
          "base_uri": "https://localhost:8080/",
          "height": 499
        },
        "id": "PgjOkoT8eIzE",
        "outputId": "1bcf9053-f560-40d0-b928-3dfafc4e85cf"
      },
      "execution_count": 1953,
      "outputs": [
        {
          "output_type": "display_data",
          "data": {
            "text/plain": [
              "<Figure size 720x576 with 1 Axes>"
            ],
            "image/png": "[encoded data removed]"
          },
          "metadata": {
            "needs_background": "light"
          }
        }
      ]
    },
    {
      "cell_type": "markdown",
      "source": [
        "Las Variables Más importantes por supuesto son\n",
        "1. La edad\n",
        "2. Si fue asesinado en California\n",
        "3. Si portaba un arma\n",
        "\n",
        "Esto se debe a que en su mayoría en el analísis descriptivo estas variables son la mayor cantidad de ejemplos."
      ],
      "metadata": {
        "id": "M0VMlKl_Du8h"
      }
    },
    {
      "cell_type": "code",
      "source": [
        "# Para la importancia de atributos\n",
        "datos['race'] = datos['race'].apply(back_to_race)"
      ],
      "metadata": {
        "id": "_2qKHQlxk9-x"
      },
      "execution_count": 1954,
      "outputs": []
    },
    {
      "cell_type": "code",
      "source": [
        "# Todas las Razas conteo\n",
        "sns.countplot(data=policia_asesinatos, x='race')\n",
        "plt.xticks(rotation=90)\n",
        "plt.title('Variable Objetivo')\n",
        "plt.show()"
      ],
      "metadata": {
        "colab": {
          "base_uri": "https://localhost:8080/",
          "height": 356
        },
        "id": "kMsD7LVMBOTV",
        "outputId": "b9961979-ef94-48a5-e72a-29470604db52"
      },
      "execution_count": 2001,
      "outputs": [
        {
          "output_type": "display_data",
          "data": {
            "text/plain": [
              "<Figure size 432x288 with 1 Axes>"
            ],
            "image/png": "[encoded data removed]"
          },
          "metadata": {
            "needs_background": "light"
          }
        }
      ]
    },
    {
      "cell_type": "code",
      "source": [
        "# Como hay 3 razas que tienen más ejemplos vamos a sintetizar\n",
        "def top_four(race):\n",
        "    if race == 'WHITE':\n",
        "      return 'WHITE'\n",
        "    elif race == 'BLACK':\n",
        "      return 'BLACK'\n",
        "    if race == 'HISPANIC':\n",
        "      return 'HISPANIC'\n",
        "    else: \n",
        "      return 'OTHER'"
      ],
      "metadata": {
        "id": "EpvtRG62Bi9k"
      },
      "execution_count": null,
      "outputs": []
    },
    {
      "cell_type": "markdown",
      "source": [
        "### **MODELOS PREDICTIVOS SUPERVISADOS**"
      ],
      "metadata": {
        "id": "LnwTV6gbnsNM"
      }
    },
    {
      "cell_type": "markdown",
      "source": [
        "**Modelo 1**: Univariative\n",
        "\n",
        "Como la variable Edad tiene una gran correlación con la variable de la raza, vamos a realiazar un modelo de una sola variable predictora para ver como trabaja."
      ],
      "metadata": {
        "id": "QC-qZUhuuCB9"
      }
    },
    {
      "cell_type": "code",
      "source": [
        "def random_forest_univariative(datos):\n",
        "    # Datos\n",
        "    univariative = datos[['age','race']]\n",
        "    # Vamos a filtar las edades entre 20 y 60 ya que el histograma que hicimos arriba demuestra que la mayor distribución de ejemplos esta entre esas edades\n",
        "    univariative[(univariative.age >= 20) & (univariative.age <= 60)]\n",
        "\n",
        "    #Separating Variables\n",
        "    X = univariative.drop(columns=['race'])\n",
        "    y = univariative['race']\n",
        "\n",
        "    #Train and Test Split\n",
        "    X_train, X_test, y_train, y_test = train_test_split(X, y, test_size=0.10,random_state=0)\n",
        "\n",
        "    print('RANDOM FOREST')\n",
        "    print('X entrenamiento:', X_train.shape)\n",
        "    print('X Prueba:', X_test.shape)\n",
        "    print('Y entrenamiento:', y_train.shape)\n",
        "    print('Y prueba:' ,y_test.shape)\n",
        "\n",
        "    ## ALGORITMO DE RANDOM FOREST\n",
        "    #RANDOM FOREST MODEL\n",
        "    print('')\n",
        "    random_classifier = RandomForestClassifier(n_estimators=10, random_state=0)\n",
        "    random_classifier.fit(X_train, y_train)\n",
        "    random_prediction = random_classifier.predict(X_test)\n",
        "    #Model Accuracy\n",
        "    print('RANDOM FOREST CLASSIFIER')\n",
        "    print(confusion_matrix(y_test, random_prediction))\n",
        "    print(classification_report(y_test, random_prediction))\n",
        "    print('Model Accuracy: ',accuracy_score(y_test, random_prediction)*100)\n",
        "\n",
        "random_forest_univariative(datos)\n",
        "\n"
      ],
      "metadata": {
        "colab": {
          "base_uri": "https://localhost:8080/"
        },
        "id": "zcBBvqqEt9uE",
        "outputId": "bfe02e9a-196d-4683-afb4-1c1fc4945d1b"
      },
      "execution_count": 1955,
      "outputs": [
        {
          "output_type": "stream",
          "name": "stdout",
          "text": [
            "RANDOM FOREST\n",
            "X entrenamiento: (2281, 1)\n",
            "X Prueba: (254, 1)\n",
            "Y entrenamiento: (2281,)\n",
            "Y prueba: (254,)\n",
            "\n",
            "RANDOM FOREST CLASSIFIER\n",
            "[[ 0  1  0  0  0  2  0]\n",
            " [ 0 16  0  0  0 51  1]\n",
            " [ 0 11  0  0  0 32  2]\n",
            " [ 0  1  0  0  0  2  0]\n",
            " [ 0  2  0  0  0  1  0]\n",
            " [ 0 14  1  0  0 95  1]\n",
            " [ 0  3  0  0  0 13  5]]\n",
            "              precision    recall  f1-score   support\n",
            "\n",
            "       ASIAN       0.00      0.00      0.00         3\n",
            "       BLACK       0.33      0.24      0.28        68\n",
            "    HISPANIC       0.00      0.00      0.00        45\n",
            "      NATIVE       0.00      0.00      0.00         3\n",
            "        OTRO       0.00      0.00      0.00         3\n",
            "       WHITE       0.48      0.86      0.62       111\n",
            "undetermined       0.56      0.24      0.33        21\n",
            "\n",
            "    accuracy                           0.46       254\n",
            "   macro avg       0.20      0.19      0.18       254\n",
            "weighted avg       0.35      0.46      0.37       254\n",
            "\n",
            "Model Accuracy:  45.66929133858268\n"
          ]
        }
      ]
    },
    {
      "cell_type": "markdown",
      "source": [
        "##**Modelo Multivariative**\n",
        "\n",
        "Modelo con varias variables predictoras"
      ],
      "metadata": {
        "id": "OLAAeZ1Ou5-2"
      }
    },
    {
      "cell_type": "code",
      "source": [
        "# Segun el classificador de arbol de decision extra estas son las variables sociodemograficas  y de manera de morir más relevantes\n",
        "datos_modelo = datos[['age','state_CA','armed_gun','race']]"
      ],
      "metadata": {
        "id": "jVW_lSKKjF-m"
      },
      "execution_count": 1957,
      "outputs": []
    },
    {
      "cell_type": "code",
      "source": [
        "def random_forest_multivariative(datos):\n",
        "    datos = datos[(datos.race != 'ASIAN') & (datos.race != 'undetermined')]\n",
        "    #Separating Variables\n",
        "    X = datos.drop(columns=['race'])\n",
        "    y = datos['race']\n",
        "    #Train and Test Split\n",
        "    X_train, X_test, y_train, y_test = train_test_split(X, y, test_size=0.10,random_state=0)\n",
        "    print('')\n",
        "    print('X entrenamiento:', X_train.shape)\n",
        "    print('X Prueba:', X_test.shape)\n",
        "    print('Y entrenamiento:', y_train.shape)\n",
        "    print('Y prueba:' ,y_test.shape)\n",
        "    ## ALGORITMO DE RANDOM FOREST\n",
        "    #RANDOM FOREST MODEL\n",
        "    random_classifier = RandomForestClassifier(n_estimators=4, random_state=0)\n",
        "    random_classifier.fit(X_train, y_train)\n",
        "    random_prediction = random_classifier.predict(X_test)\n",
        "    #Model Accuracy\n",
        "    print('RANDOM FOREST CLASSIFIER')\n",
        "    print(confusion_matrix(y_test, random_prediction))\n",
        "    print(classification_report(y_test, random_prediction))\n",
        "    print('Model Accuracy: ',accuracy_score(y_test, random_prediction)*100)\n",
        "\n",
        "# Llamando al modelo\n",
        "random_forest_multivariative(datos=datos_modelo)"
      ],
      "metadata": {
        "colab": {
          "base_uri": "https://localhost:8080/"
        },
        "id": "ZyNpUWPYoyVR",
        "outputId": "ecbcd95f-8ad2-43be-a7cc-80d40269edd3"
      },
      "execution_count": 1996,
      "outputs": [
        {
          "output_type": "stream",
          "name": "stdout",
          "text": [
            "\n",
            "X entrenamiento: (2070, 3)\n",
            "X Prueba: (231, 3)\n",
            "Y entrenamiento: (2070,)\n",
            "Y prueba: (231,)\n",
            "RANDOM FOREST CLASSIFIER\n",
            "[[22  3  0  0 38]\n",
            " [ 9 15  0  0 21]\n",
            " [ 1  0  0  0  2]\n",
            " [ 2  0  0  0  1]\n",
            " [18  9  0  0 90]]\n",
            "              precision    recall  f1-score   support\n",
            "\n",
            "       BLACK       0.42      0.35      0.38        63\n",
            "    HISPANIC       0.56      0.33      0.42        45\n",
            "      NATIVE       0.00      0.00      0.00         3\n",
            "        OTRO       0.00      0.00      0.00         3\n",
            "       WHITE       0.59      0.77      0.67       117\n",
            "\n",
            "    accuracy                           0.55       231\n",
            "   macro avg       0.31      0.29      0.29       231\n",
            "weighted avg       0.52      0.55      0.52       231\n",
            "\n",
            "Model Accuracy:  54.97835497835498\n"
          ]
        }
      ]
    },
    {
      "cell_type": "markdown",
      "source": [
        "## **K-Nearest Neighbor**"
      ],
      "metadata": {
        "id": "cXTSvCg7qnys"
      }
    },
    {
      "cell_type": "code",
      "source": [
        "def knn_multivariative(datos):\n",
        "    datos = datos[(datos.race != 'ASIAN') & (datos.race != 'undetermined')] \n",
        "#Separating Variables\n",
        "    X = datos.drop(columns=['race'])\n",
        "    y = datos['race']\n",
        "    #Train and Test Split\n",
        "    X_train, X_test, y_train, y_test = train_test_split(X, y, test_size=0.10,random_state=0)\n",
        "    print('')\n",
        "    print('X entrenamiento:', X_train.shape)\n",
        "    print('X Prueba:', X_test.shape)\n",
        "    print('Y entrenamiento:', y_train.shape)\n",
        "    print('Y prueba:' ,y_test.shape)\n",
        "    #KNN Classifier\n",
        "    knn_classifier = KNeighborsClassifier(n_neighbors=50)\n",
        "    knn_classifier.fit(X_train, y_train)\n",
        "    clf_prediction = knn_classifier.predict(X_test)\n",
        "    #Model Accuracy\n",
        "    print('KNN Model')\n",
        "    print(confusion_matrix(y_test, clf_prediction))\n",
        "    print(classification_report(y_test, clf_prediction))\n",
        "    print('Model Accuracy: ',accuracy_score(y_test, clf_prediction)*100)\n",
        "\n",
        "# Llamando al modelo\n",
        "knn_multivariative(datos=datos_modelo)"
      ],
      "metadata": {
        "colab": {
          "base_uri": "https://localhost:8080/"
        },
        "id": "G05-7CyxqnJd",
        "outputId": "303e4457-ae59-4208-8994-d1b8b457efea"
      },
      "execution_count": 1995,
      "outputs": [
        {
          "output_type": "stream",
          "name": "stdout",
          "text": [
            "\n",
            "X entrenamiento: (2070, 3)\n",
            "X Prueba: (231, 3)\n",
            "Y entrenamiento: (2070,)\n",
            "Y prueba: (231,)\n",
            "KNN Model\n",
            "[[ 21   1   0   0  41]\n",
            " [ 10   3   0   0  32]\n",
            " [  0   0   0   0   3]\n",
            " [  1   0   0   0   2]\n",
            " [ 12   1   0   0 104]]\n",
            "              precision    recall  f1-score   support\n",
            "\n",
            "       BLACK       0.48      0.33      0.39        63\n",
            "    HISPANIC       0.60      0.07      0.12        45\n",
            "      NATIVE       0.00      0.00      0.00         3\n",
            "        OTRO       0.00      0.00      0.00         3\n",
            "       WHITE       0.57      0.89      0.70       117\n",
            "\n",
            "    accuracy                           0.55       231\n",
            "   macro avg       0.33      0.26      0.24       231\n",
            "weighted avg       0.54      0.55      0.48       231\n",
            "\n",
            "Model Accuracy:  55.41125541125541\n"
          ]
        }
      ]
    },
    {
      "cell_type": "markdown",
      "source": [
        "Como era de esperarse, debido a que la variable objetivo raza \"white\" contiene un nùmero mayor de ejemplos, nuestros algoritmos son mejores para determinar esta raza en primer lugar, por lo que de manera general debemos **Traer más data** para entrenar el algoritmo con más ejemplos de las otras razas.\n",
        "\n",
        "El Algorimto Random forest es mejor para clasificar en general, por lo que seguiremos utilizando este.\n",
        "\n",
        "Para ver como funcionarría en un caso hipotetico en donde existiese más data existen varias formas de realizarlo como:\n",
        "\n",
        "**-Undersampling**\n",
        "\n",
        "**-OverSmapling**\n",
        "\n",
        "En mi caso particular siempre me gusta utilizar más data por lo que usaremos la técnica de oversampling para simular más data a la variable objetivo."
      ],
      "metadata": {
        "id": "wrSMHxInrzsN"
      }
    },
    {
      "cell_type": "markdown",
      "source": [
        "#### **Random Forest OverSamplig**"
      ],
      "metadata": {
        "id": "FSaGqBFCs_PH"
      }
    },
    {
      "cell_type": "code",
      "source": [
        "def random_forest_multivariative_over(datos):\n",
        "\n",
        "    # VAMOS A ELIMINAR LA CLASE ASIATICA E INDETERMINADA YA QUE COMO TIENEN TAN POCOS EJEMPLOS O NO APORTAN NADA EN CASO DE \"indeterminad\" no podemos saber la raza\n",
        "    datos = datos[(datos.race != 'ASIAN') & (datos.race != 'undetermined')]\n",
        "    #Let´s oversample the target class\n",
        "    X = datos.drop(columns=['race'])\n",
        "    y = datos['race']\n",
        "    smote = SMOTE('minority')\n",
        "    X_smote, y_smote = smote.fit_resample(X,y)\n",
        "\n",
        "    #Train and Test Split\n",
        "    X_train, X_test, y_train, y_test = train_test_split(X_smote, y_smote, test_size=0.10,random_state=42)\n",
        "    print('X entrenamiento:', X_train.shape)\n",
        "    print('X Prueba:', X_test.shape)\n",
        "    print('Y entrenamiento:', y_train.shape)\n",
        "    print('Y prueba:' ,y_test.shape)\n",
        "    print('')\n",
        "    #RANDOM FOREST MODEL con oversamplig\n",
        "    random_classifier = RandomForestClassifier(n_estimators=4, random_state=0, verbose=2)\n",
        "    random_classifier.fit(X_train, y_train)\n",
        "    random_prediction = random_classifier.predict(X_test)\n",
        "    #Model Accuracy\n",
        "    print('RANDOM FOREST CLASSIFIER')\n",
        "    print(confusion_matrix(y_test, random_prediction))\n",
        "    print(classification_report(y_test, random_prediction))\n",
        "    print('Model Accuracy: ',accuracy_score(y_test, random_prediction))\n",
        "#algoritmo\n",
        "random_forest_multivariative_over(datos=datos_modelo)"
      ],
      "metadata": {
        "colab": {
          "base_uri": "https://localhost:8080/"
        },
        "id": "Zlgo1dKr1tCz",
        "outputId": "7f46671a-ac48-4cce-f3ab-2e3fc6b05dc5"
      },
      "execution_count": 2005,
      "outputs": [
        {
          "output_type": "stream",
          "name": "stdout",
          "text": [
            "X entrenamiento: (3126, 3)\n",
            "X Prueba: (348, 3)\n",
            "Y entrenamiento: (3126,)\n",
            "Y prueba: (348,)\n",
            "\n",
            "building tree 1 of 4\n",
            "building tree 2 of 4\n",
            "building tree 3 of 4\n",
            "building tree 4 of 4\n",
            "RANDOM FOREST CLASSIFIER\n",
            "[[ 21   3   5   0  31]\n",
            " [  9  12   1   0  18]\n",
            " [  0   1 105   0   9]\n",
            " [  0   0   0   0   2]\n",
            " [  9  10   6   0 106]]\n",
            "              precision    recall  f1-score   support\n",
            "\n",
            "       BLACK       0.54      0.35      0.42        60\n",
            "    HISPANIC       0.46      0.30      0.36        40\n",
            "      NATIVE       0.90      0.91      0.91       115\n",
            "        OTRO       0.00      0.00      0.00         2\n",
            "       WHITE       0.64      0.81      0.71       131\n",
            "\n",
            "    accuracy                           0.70       348\n",
            "   macro avg       0.51      0.47      0.48       348\n",
            "weighted avg       0.68      0.70      0.68       348\n",
            "\n",
            "Model Accuracy:  0.7011494252873564\n"
          ]
        },
        {
          "output_type": "stream",
          "name": "stderr",
          "text": [
            "[Parallel(n_jobs=1)]: Using backend SequentialBackend with 1 concurrent workers.\n",
            "[Parallel(n_jobs=1)]: Done   1 out of   1 | elapsed:    0.0s remaining:    0.0s\n",
            "[Parallel(n_jobs=1)]: Done   4 out of   4 | elapsed:    0.0s finished\n",
            "[Parallel(n_jobs=1)]: Using backend SequentialBackend with 1 concurrent workers.\n",
            "[Parallel(n_jobs=1)]: Done   1 out of   1 | elapsed:    0.0s remaining:    0.0s\n",
            "[Parallel(n_jobs=1)]: Done   4 out of   4 | elapsed:    0.0s finished\n"
          ]
        }
      ]
    },
    {
      "cell_type": "code",
      "source": [
        "# Random forest con la variante de clases Top Four\n",
        "def random_forest_multivariative_over_top_four(datos):\n",
        "    datos['race'] = datos['race'].apply(top_four)    \n",
        "    #Let´s oversample the target class\n",
        "    X = datos.drop(columns=['race'])\n",
        "    y = datos['race']\n",
        "    smote = SMOTE()\n",
        "    X_smote, y_smote = smote.fit_resample(X,y)\n",
        "\n",
        "    #Train and Test Split\n",
        "    X_train, X_test, y_train, y_test = train_test_split(X_smote, y_smote, test_size=0.10,random_state=42)\n",
        "    print('X entrenamiento:', X_train.shape)\n",
        "    print('X Prueba:', X_test.shape)\n",
        "    print('Y entrenamiento:', y_train.shape)\n",
        "    print('Y prueba:' ,y_test.shape)\n",
        "    print('')\n",
        "    #RANDOM FOREST MODEL con oversamplig\n",
        "    random_classifier = RandomForestClassifier(n_estimators=4, random_state=0, verbose=2)\n",
        "    random_classifier.fit(X_train, y_train)\n",
        "    random_prediction = random_classifier.predict(X_test)\n",
        "    #Model Accuracy\n",
        "    print('RANDOM FOREST CLASSIFIER')\n",
        "    print(confusion_matrix(y_test, random_prediction))\n",
        "    print(classification_report(y_test, random_prediction))\n",
        "    print('Model Accuracy: ',accuracy_score(y_test, random_prediction))\n",
        "#algoritmo\n",
        "random_forest_multivariative_over(datos=datos_modelo)"
      ],
      "metadata": {
        "colab": {
          "base_uri": "https://localhost:8080/"
        },
        "id": "bcSD7G4SCSuJ",
        "outputId": "69ad0f0e-ffd7-4757-d30d-f7033f1e94b1"
      },
      "execution_count": 2010,
      "outputs": [
        {
          "output_type": "stream",
          "name": "stdout",
          "text": [
            "X entrenamiento: (3126, 3)\n",
            "X Prueba: (348, 3)\n",
            "Y entrenamiento: (3126,)\n",
            "Y prueba: (348,)\n",
            "\n",
            "building tree 1 of 4\n",
            "building tree 2 of 4\n",
            "building tree 3 of 4\n",
            "building tree 4 of 4\n",
            "RANDOM FOREST CLASSIFIER\n",
            "[[ 22   3   4   0  31]\n",
            " [  9  12   1   0  18]\n",
            " [  4   1 105   0   5]\n",
            " [  0   0   0   0   2]\n",
            " [ 10  10   5   0 106]]\n",
            "              precision    recall  f1-score   support\n",
            "\n",
            "       BLACK       0.49      0.37      0.42        60\n",
            "    HISPANIC       0.46      0.30      0.36        40\n",
            "      NATIVE       0.91      0.91      0.91       115\n",
            "        OTRO       0.00      0.00      0.00         2\n",
            "       WHITE       0.65      0.81      0.72       131\n",
            "\n",
            "    accuracy                           0.70       348\n",
            "   macro avg       0.50      0.48      0.48       348\n",
            "weighted avg       0.69      0.70      0.69       348\n",
            "\n",
            "Model Accuracy:  0.7040229885057471\n"
          ]
        },
        {
          "output_type": "stream",
          "name": "stderr",
          "text": [
            "[Parallel(n_jobs=1)]: Using backend SequentialBackend with 1 concurrent workers.\n",
            "[Parallel(n_jobs=1)]: Done   1 out of   1 | elapsed:    0.0s remaining:    0.0s\n",
            "[Parallel(n_jobs=1)]: Done   4 out of   4 | elapsed:    0.0s finished\n",
            "[Parallel(n_jobs=1)]: Using backend SequentialBackend with 1 concurrent workers.\n",
            "[Parallel(n_jobs=1)]: Done   1 out of   1 | elapsed:    0.0s remaining:    0.0s\n",
            "[Parallel(n_jobs=1)]: Done   4 out of   4 | elapsed:    0.0s finished\n"
          ]
        }
      ]
    },
    {
      "cell_type": "markdown",
      "source": [
        "Podemos ver que el modelo mejoro hasta un **70%**\n",
        "En este caso las clases \"asian\", \"otro\" y \"undetermined\" se unieron, ya que contienen muy poca data, por lo que podrían unirse y definirse como **\"OTRO\"**\n",
        "\n",
        "Diferente de \n",
        "1. BLACK\n",
        "2. HISPANIC\n",
        "3. NATIVE\n",
        "4. WHITE\n",
        "\n",
        "En la industria un modelo entre el 70%-90% de accuracy es considerado bastante bueno y **realista**\n",
        "\n",
        "Sin embargo este modelo se podría mejorar con mayor data de entrenamiento, algunos ajustes a los hiperparametros pero para efectos practicos puede predecir bastante bien las clases excepto la clase \"OTRO\"\n",
        "\n",
        "Vamos a enfocarnos en la **métrica de F1 score** ya que combina precision y recall y es la métrica más completa\n",
        "\n",
        "Se utilizarón las 3 variables que tenian mayor correlación con la variable objetivo, ya que las demas variables no aportaban mucho al modelo, e incluso causaban el effecto de underfitting de data \"basura\""
      ],
      "metadata": {
        "id": "SRuU-jW7EQpZ"
      }
    }
  ]
}